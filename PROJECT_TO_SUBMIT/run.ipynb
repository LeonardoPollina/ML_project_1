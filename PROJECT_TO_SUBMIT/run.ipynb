{
 "cells": [
  {
   "cell_type": "code",
   "execution_count": 1,
   "metadata": {},
   "outputs": [],
   "source": [
    "import numpy as np\n",
    "import matplotlib.pyplot as plt\n",
    "import sys\n",
    "\n",
    "sys.path.insert(0,'../PROJECT_TO_SUBMIT')\n",
    "from implementations import *"
   ]
  },
  {
   "cell_type": "code",
   "execution_count": 2,
   "metadata": {},
   "outputs": [],
   "source": [
    "%load_ext autoreload\n",
    "%autoreload 2\n",
    "%matplotlib inline"
   ]
  },
  {
   "cell_type": "markdown",
   "metadata": {},
   "source": [
    "# Set preprocessing parameters"
   ]
  },
  {
   "cell_type": "code",
   "execution_count": 3,
   "metadata": {},
   "outputs": [],
   "source": [
    "# Do you want to repace the -999 with zeros?\n",
    "ReplaceToZero_FLAG = True\n",
    "\n",
    "# Do you want to remove the highly correlated columns from the datasets\n",
    "RemoveHCColumns_FLAG = True\n",
    "CorrelationThreshold = 0.8"
   ]
  },
  {
   "cell_type": "markdown",
   "metadata": {},
   "source": [
    "# Preprocessing\n",
    "First, we handle the invalid values."
   ]
  },
  {
   "cell_type": "code",
   "execution_count": 4,
   "metadata": {},
   "outputs": [
    {
     "name": "stdout",
     "output_type": "stream",
     "text": [
      "Replacing -999 with 0.\n"
     ]
    }
   ],
   "source": [
    "# Reload the data, the first part had explanatory purposes. Here we want to start from scratch, and to repeat step by step\n",
    "# the manipulations that we applied \n",
    "yb, input_data, ids = load_csv_data(\"../data/train.csv\", sub_sample=False)\n",
    "print('Train data have been loaded')\n",
    "\n",
    "# Replace -999 with zeros\n",
    "if ReplaceToZero_FLAG:\n",
    "    print('Replacing the invalid values (i.e. -999) with 0.')\n",
    "    input_data = replaceWithZero(input_data,-999)"
   ]
  },
  {
   "cell_type": "markdown",
   "metadata": {},
   "source": [
    "Now we are going to divide the dataset in 3 different datasets, according to the number of jets. <br><br>\n",
    "Since in the new division some columns will have constant values, we will also delete those columns and save the indices in order do the same preprocessing when we want to use our model to predict.\n",
    "<br><br>\n",
    "Finally, note that we keep the mean and the std of the train set. These parameters will be used to perform the standardization in the prediction phase"
   ]
  },
  {
   "cell_type": "code",
   "execution_count": 5,
   "metadata": {},
   "outputs": [],
   "source": [
    "idxs = indices_jet_division(input_data)\n",
    "\n",
    "x0, x1, x2 = data_split_with_jet_division(input_data,idxs)\n",
    "y0, y1, y2 = data_split_with_jet_division(yb,idxs)\n",
    "\n",
    "#only the first 2 subsets have const columns\n",
    "x0, idx_constants_removed0 = removeConstantColumns(x0)\n",
    "x1, idx_constants_removed1 = removeConstantColumns(x1)\n",
    "\n",
    "\n",
    "x0, mean_train0, std_train0 = standardize ( x0 )\n",
    "x1, mean_train1, std_train1 = standardize ( x1 )\n",
    "x2, mean_train2, std_train2 = standardize ( x2 )"
   ]
  },
  {
   "cell_type": "markdown",
   "metadata": {},
   "source": [
    "We are left with dealing with the correlated columns."
   ]
  },
  {
   "cell_type": "code",
   "execution_count": 6,
   "metadata": {},
   "outputs": [
    {
     "name": "stdout",
     "output_type": "stream",
     "text": [
      "Removing highly correlated columns.\n"
     ]
    }
   ],
   "source": [
    "if RemoveHCColumns_FLAG:\n",
    "    print('Removing highly correlated columns.')\n",
    "    x0, idx_HC_removed0 = removeHighCorrelatedColumns(x0, CorrelationThreshold)\n",
    "    x1, idx_HC_removed1 = removeHighCorrelatedColumns(x1, CorrelationThreshold)\n",
    "    x2, idx_HC_removed2 = removeHighCorrelatedColumns(x2, CorrelationThreshold)\n",
    "else:\n",
    "    idx_HC_removed0 = []\n",
    "    idx_HC_removed0 = []\n",
    "    idx_HC_removed0 = []"
   ]
  },
  {
   "cell_type": "markdown",
   "metadata": {},
   "source": [
    "# Training\n",
    "Grid search to find the best degree and the best lambda.\n",
    "<br><br>\n",
    "For each couple (lambda, degree) we trained the model using <b>ridge regression with 4-fold cross validation</b>. Since this is not a classifier, the goodness of the model is evaluated using the mean of the 4 accuracies (i.e. the percentage of correct predictions) on the validations set of the cross validation."
   ]
  },
  {
   "cell_type": "code",
   "execution_count": 17,
   "metadata": {},
   "outputs": [
    {
     "name": "stdout",
     "output_type": "stream",
     "text": [
      "Training results:\n",
      "Model with 0 jets:  lambda = [7.08625e-05], degree = [12], accuracy = 0.8434322203539115\n",
      "Model with 1 jets:  lambda = [6.625e-05], degree = [12], accuracy = 0.8055039719385123\n",
      "Model with >1 jets: lambda = [0.0008425], degree = [14], accuracy = 0.8307003032809486\n",
      "\n",
      "\n",
      "Our validation set reached a global accuracy of 0.8279733421325208\n"
     ]
    }
   ],
   "source": [
    "degrees0 = np.arange(8,15)\n",
    "lambdas0 = np.linspace(1e-7,0.0001,25) \n",
    "\n",
    "degrees1 = np.arange(8,15)\n",
    "lambdas1 = np.linspace(1e-5,0.0001,25) \n",
    "\n",
    "degrees2 = np.arange(10,17)\n",
    "lambdas2 = np.linspace(1e-5,0.01,25) \n",
    "\n",
    "best_lambda_acc0, best_degree_acc0, accuracy0 = grid_search_hyperparam_with_RidgeCV(y0, x0, lambdas0, degrees0)\n",
    "\n",
    "best_lambda_acc1, best_degree_acc1, accuracy1 = grid_search_hyperparam_with_RidgeCV(y1, x1, lambdas1, degrees1)\n",
    "\n",
    "best_lambda_acc2, best_degree_acc2, accuracy2 = grid_search_hyperparam_with_RidgeCV(y2, x2, lambdas2, degrees2)\n",
    "\n",
    "\n",
    "print('Training results:')\n",
    "print(f'Model with 0 jets:  lambda = {best_lambda_acc0}, degree = {best_degree_acc0}, accuracy = {np.max(accuracy0)}')\n",
    "print(f'Model with 1 jets:  lambda = {best_lambda_acc1}, degree = {best_degree_acc1}, accuracy = {np.max(accuracy1)}')\n",
    "print(f'Model with >1 jets: lambda = {best_lambda_acc2}, degree = {best_degree_acc2}, accuracy = {np.max(accuracy2)}')\n",
    "\n",
    "\n",
    "N0 = x0.shape[0]\n",
    "N1 = x1.shape[0]\n",
    "N2 = x2.shape[0]\n",
    "\n",
    "#This is a good estimate of the goodness of our model\n",
    "TOTAccuracy = ( N0*np.max(accuracy0) + N1*np.max(accuracy1) + N2*np.max(accuracy2) ) / ( N0 + N1 + N2 )\n",
    "print(f'\\n\\nOur validation set reached a global accuracy of {TOTAccuracy}')"
   ]
  },
  {
   "cell_type": "code",
   "execution_count": 18,
   "metadata": {},
   "outputs": [],
   "source": [
    "# Recompute best weights using the hyperparameters and the full train (sub)sets\n",
    "x0_augmented = build_poly(x0, int(best_degree_acc0[0]))\n",
    "best_w_acc0,_ = ridge_regression(y0,x0_augmented,best_lambda_acc0[0])\n",
    "\n",
    "x1_augmented = build_poly(x1, int(best_degree_acc1[0]))\n",
    "best_w_acc1,_ = ridge_regression(y1,x1_augmented,best_lambda_acc1[0])\n",
    "\n",
    "x2_augmented = build_poly(x2, int(best_degree_acc2[0]))\n",
    "best_w_acc2,_ = ridge_regression(y2,x2_augmented,best_lambda_acc2[0])"
   ]
  },
  {
   "cell_type": "code",
   "execution_count": 42,
   "metadata": {},
   "outputs": [
    {
     "data": {
      "image/png": "[encoded data removed]",
      "text/plain": [
       "<Figure size 720x288 with 4 Axes>"
      ]
     },
     "metadata": {},
     "output_type": "display_data"
    }
   ],
   "source": [
    "plot_grid_search(lambdas1, degrees1, accuracy1, 'grid_search.eps')"
   ]
  },
  {
   "cell_type": "markdown",
   "metadata": {},
   "source": [
    "# Submission"
   ]
  },
  {
   "cell_type": "code",
   "execution_count": 19,
   "metadata": {},
   "outputs": [],
   "source": [
    "_, test_data, ids_test = load_csv_data(\"../data/test.csv\", sub_sample=False)\n",
    "num_tests = test_data.shape[0]"
   ]
  },
  {
   "cell_type": "markdown",
   "metadata": {},
   "source": [
    "We need to repeat the same manipulations applied on the train set also on the test set."
   ]
  },
  {
   "cell_type": "code",
   "execution_count": 20,
   "metadata": {},
   "outputs": [
    {
     "name": "stdout",
     "output_type": "stream",
     "text": [
      "Replacing -999 with 0.\n",
      "Removing highly correlated columns.\n"
     ]
    }
   ],
   "source": [
    "# handle invalid data\n",
    "if ReplaceToZero_FLAG:\n",
    "    print('Replacing -999 with 0.')\n",
    "    test_data = replaceWithZero(test_data,-999)\n",
    "\n",
    "    \n",
    "# jets division\n",
    "idxsTest = indices_jet_division(test_data)\n",
    "x0Test, x1Test, x2Test = data_split_with_jet_division(test_data,idxsTest)\n",
    "\n",
    "# remove const. columns\n",
    "x0Test = np.delete(x0Test, idx_constants_removed0, axis=1)\n",
    "x1Test = np.delete(x1Test, idx_constants_removed1, axis=1)\n",
    "\n",
    "\n",
    "# standardization with train parameters\n",
    "x0Test,_,_ = standardize ( x0Test, mean_train0, std_train0 )\n",
    "x1Test,_,_ = standardize ( x1Test, mean_train1, std_train1 )\n",
    "x2Test,_,_ = standardize ( x2Test, mean_train2, std_train2 )\n",
    "\n",
    "# removing higly correlated columns\n",
    "if(RemoveHCColumns_FLAG):\n",
    "    print('Removing highly correlated columns.')\n",
    "    for i in idx_HC_removed0:\n",
    "        x0Test = np.delete(x0Test,i,axis=1)\n",
    "    for i in idx_HC_removed1:\n",
    "        x1Test = np.delete(x1Test,i,axis=1)\n",
    "    for i in idx_HC_removed2:\n",
    "        x2Test = np.delete(x2Test,i,axis=1)"
   ]
  },
  {
   "cell_type": "markdown",
   "metadata": {},
   "source": [
    "Now we need to use the results of the regression to make the prediction"
   ]
  },
  {
   "cell_type": "code",
   "execution_count": 21,
   "metadata": {},
   "outputs": [],
   "source": [
    "# augment the feature according to the best degree\n",
    "x0Test = build_poly(x0Test, int(best_degree_acc0[0]))\n",
    "x1Test = build_poly(x1Test, int(best_degree_acc1[0]))\n",
    "x2Test = build_poly(x2Test, int(best_degree_acc2[0]))\n",
    "\n",
    "# for each subset, predict its output\n",
    "y_pred0 = predict_labels(best_w_acc0,x0Test)\n",
    "y_pred1 = predict_labels(best_w_acc1,x1Test)\n",
    "y_pred2 = predict_labels(best_w_acc2,x2Test)\n",
    "\n",
    "# recompose the whole predicion\n",
    "y_pred = np.ones(num_tests)\n",
    "y_pred[idxsTest[0]] = y_pred0\n",
    "y_pred[idxsTest[1]] = y_pred1\n",
    "y_pred[idxsTest[2]] = y_pred2"
   ]
  },
  {
   "cell_type": "code",
   "execution_count": 22,
   "metadata": {},
   "outputs": [],
   "source": [
    "create_csv_submission(ids_test, y_pred, 'FinalModel_WithoutHCColumns.csv')"
   ]
  }
 ],
 "metadata": {
  "kernelspec": {
   "display_name": "Python 3",
   "language": "python",
   "name": "python3"
  },
  "language_info": {
   "codemirror_mode": {
    "name": "ipython",
    "version": 3
   },
   "file_extension": ".py",
   "mimetype": "text/x-python",
   "name": "python",
   "nbconvert_exporter": "python",
   "pygments_lexer": "ipython3",
   "version": "3.6.5"
  }
 },
 "nbformat": 4,
 "nbformat_minor": 2
}

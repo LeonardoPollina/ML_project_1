{
 "cells": [
  {
   "cell_type": "code",
   "execution_count": 1,
   "metadata": {},
   "outputs": [],
   "source": [
    "import numpy as np\n",
    "import matplotlib.pyplot as plt\n",
    "%load_ext autoreload\n",
    "%autoreload 2\n",
    "%matplotlib inline\n",
    "import time"
   ]
  },
  {
   "cell_type": "code",
   "execution_count": 2,
   "metadata": {},
   "outputs": [],
   "source": [
    "#to keep things in order, and to avoid to copy and paste everytime our functions if we want to use them in more than one folder,\n",
    "#we can temporarily use this library. \n",
    "import sys\n",
    "\n",
    "#in this way Python will search the implementations also in the path '../HelperFunctions'\n",
    "sys.path.insert(0, '../HelperFunctions')\n",
    "\n",
    "\n",
    "from proj1_helpers import *"
   ]
  },
  {
   "cell_type": "code",
   "execution_count": 3,
   "metadata": {},
   "outputs": [],
   "source": [
    "yb, input_data, ids = load_csv_data(\"../Datasets/train.csv\")"
   ]
  },
  {
   "cell_type": "code",
   "execution_count": 33,
   "metadata": {},
   "outputs": [],
   "source": [
    "#this will surely be deleted, in this way we are sure that original_data is the original version of the data and we don't have\n",
    "#to load them again\n",
    "from copy import deepcopy\n",
    "originalData = deepcopy(input_data)\n"
   ]
  },
  {
   "cell_type": "code",
   "execution_count": 34,
   "metadata": {},
   "outputs": [],
   "source": [
    "def replaceWithMean(data,invalidValue,idxCols):\n",
    "    '''Replace the invalidValue with the mean value of the column which it belongs, only in the columns indexed by idxCols. '''\n",
    "    D = data.shape[1]\n",
    "    for i in idxCols:\n",
    "        idxValid = np.where( data[:,i] != invalidValue)\n",
    "        idxInvalid = np.where( data[:,i] == invalidValue)\n",
    "        mean = np.mean( data[idxValid,i] )\n",
    "        data[idxInvalid,i] = mean\n",
    "    return data\n",
    "\n",
    "def replaceWithZero(data,invalidValue,idxCols):\n",
    "    '''Replace the invalidValue with 0, only in the columns indexed by idxCols. '''\n",
    "    D = data.shape[1]\n",
    "    for i in idxCols:\n",
    "        idxInvalid = np.where( data[:,i] == invalidValue)\n",
    "        data[idxInvalid,i] = 0\n",
    "    return data"
   ]
  },
  {
   "cell_type": "code",
   "execution_count": 35,
   "metadata": {},
   "outputs": [],
   "source": [
    "def countInvalid(data, invalidValue):\n",
    "    '''Returns an array of length D, each elements counts how many invalidValue(s) there are in the column'''\n",
    "    D = data.shape[1]\n",
    "    counter = np.array( [ (data[:,i] == invalidValue).sum() for i in range(D) ] )\n",
    "    return counter"
   ]
  },
  {
   "cell_type": "code",
   "execution_count": 36,
   "metadata": {},
   "outputs": [
    {
     "name": "stdout",
     "output_type": "stream",
     "text": [
      "[ 38114      0      0      0 177457 177457 177457      0      0      0\n",
      "      0      0 177457      0      0      0      0      0      0      0\n",
      "      0      0      0  99913  99913  99913 177457 177457 177457      0]\n"
     ]
    }
   ],
   "source": [
    "numInvalidValues = countInvalid(originalData,-999)\n",
    "print(numInvalidValues)"
   ]
  },
  {
   "cell_type": "markdown",
   "metadata": {},
   "source": [
    "As you can see, there are only some columns where there are invalid values.\n",
    "\n",
    "\n",
    "The first one is an estimated measure of the mass of the boson, it has been replaced with -999 when the estimation gave a bad result.\n",
    "\n",
    "\n",
    "The other variables are set to -999 when they makes no sense. For instance when they refer to the different between 2 things and in the experiment there is only one thing (e.g one jet vs 2 jets, column 5).\n",
    "\n",
    "\n",
    "This leads to a different interpretation of the missing values and to a different way to treat them. I think that substituting the mean value of the column makes no sense for \"the second type of missing value\" (e.g column 5), while it could be correct for the column related to the mass. <br>\n",
    "For instance in the case of column 5 it makes no sense to talk about the difference between 2 jets when in the experiment there is only one jet. Hence, it could be more reasonable to put a arbitrary value like 0 instead of trying to deduce a value from the experiments with 2 jets. 0 could work as a more appropriate \"flag\" wrt to -999, that indicates the experiment with only 1 jet. \n"
   ]
  },
  {
   "cell_type": "code",
   "execution_count": 37,
   "metadata": {},
   "outputs": [
    {
     "data": {
      "text/plain": [
       "array([0.152456, 0.      , 0.      , 0.      , 0.709828, 0.709828,\n",
       "       0.709828, 0.      , 0.      , 0.      , 0.      , 0.      ,\n",
       "       0.709828, 0.      , 0.      , 0.      , 0.      , 0.      ,\n",
       "       0.      , 0.      , 0.      , 0.      , 0.      , 0.399652,\n",
       "       0.399652, 0.399652, 0.709828, 0.709828, 0.709828, 0.      ])"
      ]
     },
     "execution_count": 37,
     "metadata": {},
     "output_type": "execute_result"
    }
   ],
   "source": [
    "numInvalidValues/250000"
   ]
  },
  {
   "cell_type": "markdown",
   "metadata": {},
   "source": [
    "Since in the first columns there are only 15% of datas that are missing, maybe we can simply avoid to consider them in the dataset. This shouldn't be a great loss and it allows us to avoid thinking about how to substituite -999 in this case, which is also the most complicated\n",
    "\n",
    "Firstly, I will try to substitute the -999 with the mean value of the column for the column related to the mass, to see what happen. While, for the variables in the column different from the first one, I will put 0."
   ]
  },
  {
   "cell_type": "code",
   "execution_count": 38,
   "metadata": {},
   "outputs": [],
   "source": [
    "#recover original data\n",
    "input_data = deepcopy(originalData)\n",
    "\n",
    "#Let's put 0 in the -999 generated by the \"no sense\" variable\n",
    "idxCols = np.where(numInvalidValues>0)[0]\n",
    "input_data = replaceWithZero(input_data,-999,idxCols[1:])\n",
    "\n",
    "#Let's put the mean of the computed masses instead of -999\n",
    "input_data = replaceWithMean(input_data,-999,[0])"
   ]
  },
  {
   "cell_type": "code",
   "execution_count": 39,
   "metadata": {},
   "outputs": [
    {
     "data": {
      "text/plain": [
       "<matplotlib.collections.PathCollection at 0x1f1b391eba8>"
      ]
     },
     "execution_count": 39,
     "metadata": {},
     "output_type": "execute_result"
    },
    {
     "data": {
      "image/png": "[encoded data removed]",
      "text/plain": [
       "<Figure size 432x288 with 1 Axes>"
      ]
     },
     "metadata": {},
     "output_type": "display_data"
    }
   ],
   "source": [
    "plt.scatter(input_data[:,0],input_data[:,2])\n"
   ]
  },
  {
   "cell_type": "markdown",
   "metadata": {},
   "source": [
    "The results are not so good, the mean values of the mass seems to behave as outliers..\n",
    "\n",
    "Another way to proceed to substitute the -999 in the mass, could be to do a \"simple\" least squares regression to predict the value of the mass using the other 29 features. We have tried to do this and the \"outlier problem\" seems to disappear.\n",
    "\n",
    "This approach is suggested in some online articles, but I don't like it too much for a couple of reasons: <br>\n",
    "1) usually the features are thought to be independent, hence doing a regression to discover the value of a feature based on the values of the other features could provide a result that doesn't describe a real/physics correlation between the features. Since we don't know well our features, maybe it isn't a good idea to suppose that there is such a correlation that allows us to predict the missing mass values <br>\n",
    "2) we have onlt 15% of missing mass values, introduce such a complication for this relative small portion of data could be worthless\n",
    "\n",
    "\n",
    "Hence, at the end, I think that the best way to proceed is to delete the rows related to the missing mass values. For the other missing values, with 0 instead of -999, the scatterplots aren't so shitty so this could really be a good choice."
   ]
  },
  {
   "cell_type": "code",
   "execution_count": 40,
   "metadata": {},
   "outputs": [],
   "source": [
    "def removeLines(data, idxCol, invalidValue):\n",
    "    '''Remove the lines in data that contains invalidValue in position idxCol'''\n",
    "    idx = np.where(data[:,idxCol] == invalidValue)\n",
    "    data = np.delete(data,idx,axis=0)\n",
    "    return data"
   ]
  },
  {
   "cell_type": "code",
   "execution_count": 41,
   "metadata": {},
   "outputs": [
    {
     "data": {
      "text/plain": [
       "(211886, 30)"
      ]
     },
     "execution_count": 41,
     "metadata": {},
     "output_type": "execute_result"
    }
   ],
   "source": [
    "#recover originalData\n",
    "input_data = deepcopy(originalData)\n",
    "\n",
    "#remove the lines whose mass is -999\n",
    "input_data = removeLines(input_data,0,-999)\n",
    "\n",
    "#in the remaining part of the dataset, replace the -999 with the mean\n",
    "idxCols = np.where(numInvalidValues>0)[0]\n",
    "input_data = replaceWithZero(input_data,-999,idxCols)\n",
    "input_data.shape"
   ]
  },
  {
   "cell_type": "code",
   "execution_count": 42,
   "metadata": {},
   "outputs": [
    {
     "data": {
      "text/plain": [
       "<matplotlib.collections.PathCollection at 0x1f1b39880f0>"
      ]
     },
     "execution_count": 42,
     "metadata": {},
     "output_type": "execute_result"
    },
    {
     "data": {
      "image/png": "[encoded data removed]",
      "text/plain": [
       "<Figure size 432x288 with 1 Axes>"
      ]
     },
     "metadata": {},
     "output_type": "display_data"
    }
   ],
   "source": [
    "plt.scatter(input_data[:,0],input_data[:,2])"
   ]
  },
  {
   "cell_type": "code",
   "execution_count": 44,
   "metadata": {},
   "outputs": [
    {
     "data": {
      "image/png": "[encoded data removed]",
      "text/plain": [
       "<Figure size 432x288 with 2 Axes>"
      ]
     },
     "metadata": {},
     "output_type": "display_data"
    },
    {
     "data": {
      "text/plain": [
       "(array([ 0,  2,  3,  3,  3,  4,  4,  5,  9,  9,  9,  9, 12, 21, 21, 21, 23,\n",
       "        23, 23, 23, 26, 29, 29, 29, 29, 29], dtype=int64),\n",
       " array([ 2,  0,  9, 23, 29,  5, 12,  4,  3, 21, 23, 29,  4,  9, 23, 29,  3,\n",
       "         9, 21, 29, 29,  3,  9, 21, 23, 26], dtype=int64))"
      ]
     },
     "execution_count": 44,
     "metadata": {},
     "output_type": "execute_result"
    }
   ],
   "source": [
    "import pylab\n",
    "\n",
    "# plotting the correlation matrix\n",
    "R = np.corrcoef(input_data.T)\n",
    "pylab.pcolor(R)\n",
    "pylab.colorbar()\n",
    "pylab.show()\n",
    "\n",
    "np.where( (0.8 < R) & (R < 0.98))"
   ]
  },
  {
   "cell_type": "code",
   "execution_count": null,
   "metadata": {},
   "outputs": [],
   "source": []
  }
 ],
 "metadata": {
  "kernelspec": {
   "display_name": "Python 3",
   "language": "python",
   "name": "python3"
  },
  "language_info": {
   "codemirror_mode": {
    "name": "ipython",
    "version": 3
   },
   "file_extension": ".py",
   "mimetype": "text/x-python",
   "name": "python",
   "nbconvert_exporter": "python",
   "pygments_lexer": "ipython3",
   "version": "3.6.5"
  }
 },
 "nbformat": 4,
 "nbformat_minor": 2
}

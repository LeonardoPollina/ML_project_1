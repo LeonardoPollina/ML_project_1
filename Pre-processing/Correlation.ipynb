{
 "cells": [
  {
   "cell_type": "code",
   "execution_count": 1,
   "metadata": {},
   "outputs": [],
   "source": [
    "import numpy as np\n",
    "import matplotlib.pyplot as plt\n",
    "%load_ext autoreload\n",
    "%autoreload 2\n",
    "%matplotlib inline\n",
    "import time"
   ]
  },
  {
   "cell_type": "code",
   "execution_count": 2,
   "metadata": {},
   "outputs": [],
   "source": [
    "#to keep things in order, and to avoid to copy and paste everytime our functions if we want to use them in more than one folder,\n",
    "#we can temporarily use this library. \n",
    "import sys\n",
    "\n",
    "#in this way Python will search the implementations also in the path '../HelperFunctions'\n",
    "sys.path.insert(0, '../HelperFunctions')\n",
    "\n",
    "\n",
    "from proj1_helpers import *"
   ]
  },
  {
   "cell_type": "code",
   "execution_count": 3,
   "metadata": {},
   "outputs": [],
   "source": [
    "yb, input_data, ids = load_csv_data(\"../Datasets/train.csv\")"
   ]
  },
  {
   "cell_type": "markdown",
   "metadata": {},
   "source": [
    "# Correlation matrix visualization\n",
    "\n",
    "There are some variables that are highly (linearly) correlated! We can try to delete some of them\n",
    "\n",
    "<b>NOTE</b>: this is simply to have an overlook on the procedure, we need to decide whether to look for the correlation before or after having cleaned the dataset"
   ]
  },
  {
   "cell_type": "code",
   "execution_count": 4,
   "metadata": {},
   "outputs": [
    {
     "data": {
      "image/png": "[encoded data removed]",
      "text/plain": [
       "<Figure size 432x288 with 2 Axes>"
      ]
     },
     "metadata": {},
     "output_type": "display_data"
    }
   ],
   "source": [
    "import pylab\n",
    "\n",
    "# plotting the correlation matrix\n",
    "R = np.corrcoef(input_data.T)\n",
    "pylab.pcolor(R)\n",
    "pylab.colorbar()\n",
    "pylab.show()\n",
    "\n"
   ]
  },
  {
   "cell_type": "code",
   "execution_count": 5,
   "metadata": {},
   "outputs": [
    {
     "name": "stdout",
     "output_type": "stream",
     "text": [
      "(array([ 3,  3,  4,  4,  5,  5,  5,  5,  5,  5,  5,  6,  6,  9,  9,  9, 12,\n",
      "       12, 21, 21, 22, 22, 22, 22, 22, 22, 22, 22, 22, 22, 22, 23, 24, 25,\n",
      "       26, 26, 27, 27, 28, 28, 29, 29, 29, 29], dtype=int64), array([ 9, 29,  5, 22,  4,  6, 12, 22, 26, 27, 28,  5, 22,  3, 21, 29,  5,\n",
      "       22,  9, 29,  4,  5,  6, 12, 23, 24, 25, 26, 27, 28, 29, 22, 22, 22,\n",
      "        5, 22,  5, 22,  5, 22,  3,  9, 21, 22], dtype=int64))\n"
     ]
    }
   ],
   "source": [
    "#to be more precise, we can select the features according to a threshold\n",
    "\n",
    "#choose a lowerBound and then select the couples of features that have a correlation higher than lowerbound\n",
    "lowerBound = 0.8\n",
    "\n",
    "#the upper bound 0.99 is there only to avoid to select the correlation of a variable with itself, which is one\n",
    "idx_high_correlation = np.where( (lowerBound < R) & (R < 0.99))\n",
    "print(idx_high_correlation)"
   ]
  },
  {
   "cell_type": "code",
   "execution_count": 6,
   "metadata": {},
   "outputs": [
    {
     "name": "stdout",
     "output_type": "stream",
     "text": [
      "[(3, 9), (3, 29), (4, 5), (4, 22), (5, 4), (5, 6), (5, 12), (5, 22), (5, 26), (5, 27), (5, 28), (6, 5), (6, 22), (9, 3), (9, 21), (9, 29), (12, 5), (12, 22), (21, 9), (21, 29), (22, 4), (22, 5), (22, 6)]\n"
     ]
    }
   ],
   "source": [
    "#more convenient way to store the couples\n",
    "highCorrelatedCouples = list( zip(idx_high_correlation[0], idx_high_correlation[1]) )\n",
    "\n",
    "#the couples are duplicated, we have both (i,j) and (j,i), we keep only the first half of the list\n",
    "highCorrelatedCouples = highCorrelatedCouples[0 : int(len(highCorrelatedCouples)/2) + 1]\n",
    "print( highCorrelatedCouples)"
   ]
  },
  {
   "cell_type": "code",
   "execution_count": null,
   "metadata": {},
   "outputs": [],
   "source": []
  }
 ],
 "metadata": {
  "kernelspec": {
   "display_name": "Python 3",
   "language": "python",
   "name": "python3"
  },
  "language_info": {
   "codemirror_mode": {
    "name": "ipython",
    "version": 3
   },
   "file_extension": ".py",
   "mimetype": "text/x-python",
   "name": "python",
   "nbconvert_exporter": "python",
   "pygments_lexer": "ipython3",
   "version": "3.6.5"
  }
 },
 "nbformat": 4,
 "nbformat_minor": 2
}

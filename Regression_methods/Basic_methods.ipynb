{
 "cells": [
  {
   "cell_type": "code",
   "execution_count": 1,
   "metadata": {},
   "outputs": [],
   "source": [
    "import numpy as np\n",
    "import matplotlib.pyplot as plt\n",
    "%load_ext autoreload\n",
    "%autoreload 2\n",
    "%matplotlib inline\n",
    "import time \n",
    "\n",
    "#to keep things in order, and to avoid to copy and paste everytime our functions if we want to use them in more than one folder,\n",
    "#we can temporarily use this library. \n",
    "import sys\n",
    "\n",
    "#in this way Python will search the implementations also in the path '../HelperFunctions'\n",
    "sys.path.insert(0, '../HelperFunctions')\n",
    "sys.path.insert(0, '../pre-processing/Clean_Data/')\n",
    "\n",
    "from proj1_helpers import *\n",
    "from common_functions import *\n",
    "from counters import *\n",
    "from remove import *\n",
    "from replace import *\n",
    "from regressors import *"
   ]
  },
  {
   "cell_type": "markdown",
   "metadata": {},
   "source": [
    "# Loading data"
   ]
  },
  {
   "cell_type": "code",
<<<<<<< Updated upstream:Regression_methods/Basic_methods.ipynb
   "execution_count": 2,
=======
   "execution_count": 22,
>>>>>>> Stashed changes:Basic_methods/Basic_methods.ipynb
   "metadata": {},
   "outputs": [
    {
     "name": "stdout",
     "output_type": "stream",
     "text": [
      "[ 1. -1. -1. ...  1. -1. -1.]\n"
     ]
    }
   ],
   "source": [
    "yb, input_data, ids = load_csv_data(\"../data/train.csv\", sub_sample=False)\n",
    "_, test_data, ids_test = load_csv_data(\"../data/test.csv\", sub_sample=False)\n",
    "\n",
    "#this will surely be deleted, in this way we are sure that original_data is the original version of the data and we don't have\n",
    "#to load them again\n",
    "from copy import deepcopy\n",
    "originalData = deepcopy(input_data)\n",
    "originalY = deepcopy(yb)\n",
    "print(yb)\n",
    "\n",
    "# change the label of -1 to 0 for simplicity. \n",
    "#idx_wrong=np.where(yb==-1)\n",
    "#print(idx_wrong)\n",
    "#yb[idx_wrong]=0\n",
    "#print(yb)"
   ]
  },
  {
   "cell_type": "code",
   "execution_count": null,
   "metadata": {},
   "outputs": [],
   "source": []
  },
  {
   "cell_type": "markdown",
   "metadata": {},
   "source": [
    "# Pre-processing"
   ]
  },
  {
   "cell_type": "markdown",
   "metadata": {},
   "source": [
    "### Removing the columns with bad data and standardization"
   ]
  },
  {
   "cell_type": "code",
<<<<<<< Updated upstream:Regression_methods/Basic_methods.ipynb
   "execution_count": 3,
=======
   "execution_count": 23,
>>>>>>> Stashed changes:Basic_methods/Basic_methods.ipynb
   "metadata": {},
   "outputs": [
    {
     "name": "stdout",
     "output_type": "stream",
     "text": [
      "(250000, 30)\n",
      "(250000, 19)\n"
     ]
    }
   ],
   "source": [
    "print(input_data.shape)\n",
    "# Stocking the indexes of columns to remove\n",
    "idxCols = np.where(countInvalid(input_data,-999)>0)[0]\n",
    "input_data=removeColumns(input_data,0)\n",
    "print(input_data.shape)\n",
    "#we will need the mean and std of the training set for the standardization of the test set\n",
    "input_data,mean_data,std_data = standardize(input_data)"
   ]
  },
  {
   "cell_type": "markdown",
   "metadata": {},
   "source": [
    "### Same pre-processing applied on test dataset"
   ]
  },
  {
   "cell_type": "code",
<<<<<<< Updated upstream:Regression_methods/Basic_methods.ipynb
   "execution_count": 4,
=======
   "execution_count": 24,
>>>>>>> Stashed changes:Basic_methods/Basic_methods.ipynb
   "metadata": {},
   "outputs": [
    {
     "name": "stdout",
     "output_type": "stream",
     "text": [
      "(568238, 30)\n",
      "(568238, 19)\n"
     ]
    }
   ],
   "source": [
    "print(test_data.shape)\n",
    "# To remove the same data we removed from the train set.\n",
    "test_data=np.delete(test_data,idxCols,axis=1)\n",
    "print(test_data.shape)\n",
    "#We standardize the test set with the mean and std of the training set\n",
    "test_data,_,_ = standardize(test_data,mean_data,std_data)"
   ]
  },
  {
   "cell_type": "markdown",
   "metadata": {},
   "source": [
    "### Just replacing the invalid values with 0 and standardizing"
   ]
  },
  {
   "cell_type": "code",
<<<<<<< Updated upstream:Regression_methods/Basic_methods.ipynb
   "execution_count": 5,
=======
   "execution_count": 25,
>>>>>>> Stashed changes:Basic_methods/Basic_methods.ipynb
   "metadata": {},
   "outputs": [
    {
     "name": "stdout",
     "output_type": "stream",
     "text": [
      "Size of the train set : (250000, 19)\n"
     ]
    }
   ],
   "source": [
    "idxCols=np.where(countInvalid(input_data,-999)>0)[0]\n",
    "\n",
    "#Replacing with 0 all the bad values in the train set (-999)\n",
    "input_data=replaceWithZero(input_data,-999,idxCols)\n",
    "#we will need the mean and std of the training set for the standardization of the test set\n",
    "input_data,mean_data_zero,std_data_zero=standardize(input_data)\n",
    "print('Size of the train set :', input_data.shape)"
   ]
  },
  {
   "cell_type": "markdown",
   "metadata": {},
   "source": [
    "### Same on the test set"
   ]
  },
  {
   "cell_type": "code",
<<<<<<< Updated upstream:Regression_methods/Basic_methods.ipynb
   "execution_count": 6,
=======
   "execution_count": 26,
>>>>>>> Stashed changes:Basic_methods/Basic_methods.ipynb
   "metadata": {},
   "outputs": [
    {
     "name": "stdout",
     "output_type": "stream",
     "text": [
<<<<<<< Updated upstream:Regression_methods/Basic_methods.ipynb
      "Size of the test set : (568238, 30)\n"
=======
      "Size of the test set : (568238, 19)\n"
>>>>>>> Stashed changes:Basic_methods/Basic_methods.ipynb
     ]
    }
   ],
   "source": [
    "#Replacing with 0 all the bad values in the test set (-999)\n",
    "\n",
    "# If I use the same idxCols, it means that we replace with 0 the invalide values in the colums containing invalid \n",
    "# values in the train set. What if there are other invalid values in other columns? Should we replace them too? Or it \n",
    "# would be not consistent?\n",
    "test_data=replaceWithZero(test_data,-999,idxCols)\n",
    "#We standardize the test set with the mean and std of the training set\n",
    "test_data,_,_=standardize(test_data,mean_data_zero,std_data_zero)\n",
    "print('Size of the test set :', test_data.shape)"
   ]
  },
  {
   "cell_type": "markdown",
   "metadata": {},
   "source": [
    "# PCA"
   ]
  },
  {
   "cell_type": "code",
   "execution_count": null,
   "metadata": {},
   "outputs": [],
   "source": [
    "#Generating the principal components\n",
    "sys.path.insert(0, '../pre-processing/PCA/')\n",
    "from pca_functions import PCAWithCovariance\n",
    "\n",
    "input_data,_,_ = standardize(input_data)\n",
    "test_data,_,_ = standardize(test_data)\n",
    "\n",
    "_,eV = PCAWithCovariance(input_data)\n",
    "\n",
    "N = 7 #num p. components\n",
    "components = np.empty(input_data.shape[0])\n",
    "for i in range(N):\n",
    "    components = np.c_[components, input_data.dot(eV[:,i])]\n",
    "    \n",
    "print(components.shape)\n",
    "print(components[:,0])\n",
    "input_data=components[:,1:]\n",
    "#input_data = np.c_[np.ones(input_data.shape[0]), components]\n",
    "print(input_data.shape)\n",
    "print(input_data[:,0])\n",
    "print(input_data[:,1])"
   ]
  },
  {
   "cell_type": "markdown",
   "metadata": {},
   "source": [
    "### PCA applied on test dataset"
   ]
  },
  {
   "cell_type": "code",
   "execution_count": null,
   "metadata": {},
   "outputs": [],
   "source": [
    "N = 7 #num p. components\n",
    "components = np.empty(test_data.shape[0])\n",
    "for i in range(N):\n",
    "    components = np.c_[components, test_data.dot(eV[:,i])]\n",
    "test_data=components[:,1:]\n",
    "#test_data = np.c_[np.ones(test_data.shape[0]), components]"
   ]
  },
  {
   "cell_type": "markdown",
   "metadata": {},
   "source": [
    "# Regression"
   ]
  },
  {
   "cell_type": "markdown",
   "metadata": {},
   "source": [
    "### - Gradient Descent\n",
    "\n",
    "#### Creation of the model"
   ]
  },
  {
   "cell_type": "code",
   "execution_count": 27,
   "metadata": {},
   "outputs": [
    {
     "name": "stdout",
     "output_type": "stream",
     "text": [
      "Gradient Descent(0/99): loss=0.5\n",
      "Gradient Descent(10/99): loss=0.4724935001843166\n",
      "Gradient Descent(20/99): loss=0.4567197673993042\n",
      "Gradient Descent(30/99): loss=0.4465770206441013\n",
      "Gradient Descent(40/99): loss=0.4395611805452354\n",
      "Gradient Descent(50/99): loss=0.4344808327571964\n",
      "Gradient Descent(60/99): loss=0.43068354248002566\n",
      "Gradient Descent(70/99): loss=0.4277725801931319\n",
      "Gradient Descent(80/99): loss=0.4254902520177619\n",
      "Gradient Descent(90/99): loss=0.42366251711908776\n",
      "Gradient Descent final loss = 0.42230592214884705\n",
      "Weights = [-0.15922073 -0.00999925  0.04938521  0.05620657 -0.03665085  0.02264549\n",
      " -0.07495618  0.10457366  0.09146022 -0.00103518 -0.00240267  0.00437257\n",
      " -0.00035858  0.00202948 -0.00900318  0.00236807  0.0068323   0.01407286\n",
      "  0.00483524]\n"
     ]
    }
   ],
   "source": [
    "# Using Gradient-Descent regressor\n",
    "\n",
    "max_iters=100\n",
    "#With gamma = 0.7 loss huuuuge\n",
    "gamma=0.01\n",
    "\n",
    "w_initial=np.array(np.zeros(input_data.shape[1]))\n",
    "\n",
    "#Start\n",
    "GD_loss,GD_ws= gradient_descent(yb,input_data,w_initial,max_iters,gamma)\n",
    "\n",
    "#Print results\n",
    "print(\"Gradient Descent final loss =\",  GD_loss)\n",
    "print(\"Weights =\",GD_ws)"
   ]
  },
  {
   "cell_type": "markdown",
   "metadata": {},
   "source": [
    "#### Prediction"
   ]
  },
  {
   "cell_type": "code",
   "execution_count": 28,
   "metadata": {},
   "outputs": [
    {
     "name": "stdout",
     "output_type": "stream",
     "text": [
      "[-1. -1. -1. ...  1.  1. -1.]\n",
      "Prediction file created\n"
     ]
    }
   ],
   "source": [
    "# Predicting the labels of test dataset.\n",
    "GD_labels=predict_labels(GD_ws,test_data)\n",
    "print(GD_labels)\n",
    "\n",
    "create_csv_submission(ids_test,GD_labels,'predictions_GD_PCA.csv')\n",
    "print('Prediction file created')"
   ]
  },
  {
   "cell_type": "markdown",
   "metadata": {},
   "source": [
    "### - Stochastic Gradient Descent\n",
    "\n",
    "#### Creation of the model"
   ]
  },
  {
   "cell_type": "code",
   "execution_count": 29,
   "metadata": {},
   "outputs": [
    {
     "name": "stdout",
     "output_type": "stream",
     "text": [
      "Stochastic gradient Descent(0/99): loss=0.4993850227572091\n",
      "Stochastic gradient Descent(10/99): loss=0.4669154727689796\n",
      "Stochastic gradient Descent(20/99): loss=0.4548440274867042\n",
      "Stochastic gradient Descent(30/99): loss=0.4468930937323573\n",
      "Stochastic gradient Descent(40/99): loss=0.43909741653486906\n",
      "Stochastic gradient Descent(50/99): loss=0.43344513255526096\n",
      "Stochastic gradient Descent(60/99): loss=0.43088558452540454\n",
      "Stochastic gradient Descent(70/99): loss=0.4268125562023277\n",
      "Stochastic gradient Descent(80/99): loss=0.4253962420134041\n",
      "Stochastic gradient Descent(90/99): loss=0.42511860533311246\n",
      "Stochastic Gradient Descent final loss = 0.4224216862524347\n",
      "Weights = [-0.17167416 -0.02670216  0.05958064  0.05515316 -0.04031287  0.02874808\n",
      " -0.07281281  0.10813023  0.08903503  0.00803809 -0.00686614  0.0014903\n",
      " -0.00595506  0.01257516  0.00067109  0.0157986   0.0095876   0.02057617\n",
      "  0.0132428 ]\n"
     ]
    }
   ],
   "source": [
    "# Using Stochastic Gradient Descent regressor\n",
    "\n",
    "max_iters=100\n",
    "#With gamma = 0.7 loss huuuuge\n",
    "gamma=0.01\n",
    "batch_size=32\n",
    "\n",
    "w_initial=np.array(np.zeros(input_data.shape[1]))\n",
    "\n",
    "#Start\n",
    "SGD_loss,SGD_ws= stochastic_gradient_descent(yb,input_data,w_initial,batch_size,max_iters,gamma)\n",
    "\n",
    "#Print results\n",
    "print(\"Stochastic Gradient Descent final loss =\",  SGD_loss)\n",
    "print(\"Weights =\",SGD_ws)"
   ]
  },
  {
   "cell_type": "markdown",
   "metadata": {},
   "source": [
    "#### Prediction"
   ]
  },
  {
   "cell_type": "code",
   "execution_count": 30,
   "metadata": {},
   "outputs": [
    {
     "name": "stdout",
     "output_type": "stream",
     "text": [
      "[-1. -1. -1. ...  1.  1. -1.]\n",
      "Prediction file created\n"
     ]
    }
   ],
   "source": [
    "# Predicting the labels of test dataset.\n",
    "SGD_labels=predict_labels(SGD_ws,test_data)\n",
    "print(SGD_labels)\n",
    "\n",
    "create_csv_submission(ids_test,SGD_labels,'predictions_SGD_PCA.csv')\n",
    "print('Prediction file created')"
   ]
  },
  {
   "cell_type": "markdown",
   "metadata": {},
   "source": [
    "### - Polynomial least squares\n",
    "\n",
    "#### Creation of the model"
   ]
  },
  {
   "cell_type": "code",
   "execution_count": 8,
   "metadata": {},
   "outputs": [
    {
     "name": "stdout",
     "output_type": "stream",
     "text": [
      "Processing 1th experiment, degree=1, rmse_tr=0.8248436164181487, rmse_vt=0.8244197578166081\n",
      "Processing 2th experiment, degree=2, rmse_tr=0.8047014598797353, rmse_vt=0.8046735951813822\n",
      "Processing 3th experiment, degree=3, rmse_tr=0.7943664091360756, rmse_vt=0.7982651698148086\n",
      "Processing 4th experiment, degree=4, rmse_tr=0.7835900840951938, rmse_vt=0.7883972988714275\n",
      "Processing 5th experiment, degree=5, rmse_tr=0.7738147175348297, rmse_vt=0.8405467748548223\n",
      "Processing 6th experiment, degree=6, rmse_tr=0.7699146544639923, rmse_vt=0.9589222845993959\n",
      "Processing 7th experiment, degree=7, rmse_tr=0.773945420585058, rmse_vt=6.727192869651973\n",
      "Processing 8th experiment, degree=8, rmse_tr=0.7844463915766913, rmse_vt=29.832033566803506\n",
      "Processing 9th experiment, degree=9, rmse_tr=7.768724078841224, rmse_vt=820.1991150896863\n",
      "Processing 10th experiment, degree=10, rmse_tr=1.1778486981083063, rmse_vt=320.1468517904892\n"
     ]
    },
    {
     "data": {
      "text/plain": [
       "Text(0.5,1,'Variation of the loss on the validation test depending on the degree of features expansion.')"
      ]
     },
     "execution_count": 8,
     "metadata": {},
     "output_type": "execute_result"
    },
    {
     "data": {
      "image/png": "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\n",
      "text/plain": [
       "<Figure size 432x288 with 1 Axes>"
      ]
     },
     "metadata": {},
     "output_type": "display_data"
    }
   ],
   "source": [
    "# Using least squares with expanded features\n",
    "\n",
    "# We divide the set in 80% training and 20% test. This is done in order to obtain a loss on a small validation in test \n",
    "# to guess which is the best degree of expansion. \n",
    "# --> A better way to do this is of course Cross Validation (to implement)\n",
    "\n",
    "ratio = 0.8\n",
    "seed = 2\n",
    "input_data_tr,validation_data,yb_tr,yb_vt=split_data(input_data,yb,ratio,seed)\n",
    "\n",
    "degrees = np.array([1,2,3,4,5,6,7,8,9,10])\n",
    "losses_vt = []\n",
    "losses_tr = []\n",
    "ws = []\n",
    "\n",
    "for ind, degree in enumerate(degrees):\n",
    "    # form dataset to do polynomial regression.\n",
    "    tx = build_poly(input_data_tr, degree)\n",
    "    #Note that the column of ones is already added by the function build_poly()\n",
    "\n",
    "    # least squares\n",
    "    weights = least_squares(yb_tr, tx)\n",
    "    ws.append(weights)\n",
    "    \n",
    "    # Expanding the validation set\n",
    "    val_data = build_poly(validation_data,degree)\n",
    "    \n",
    "    # compute RMSE on the validation set\n",
    "    rmse_tr = np.sqrt(2 * compute_loss_MSE(yb_tr, tx, weights))\n",
    "    rmse_vt = np.sqrt(2 * compute_loss_MSE(yb_vt, val_data, weights))\n",
    "    losses_tr.append(rmse_tr)\n",
    "    losses_vt.append(rmse_vt)\n",
    "    print(\"Processing {i}th experiment, degree={d}, rmse_tr={loss_tr}, rmse_vt={loss_vt}\".format(\n",
    "          i = ind + 1, d=degree, loss_tr=rmse_tr, loss_vt=rmse_vt))\n",
    "    \n",
    "plt.plot(degrees,losses_tr, marker=\".\", color='r')\n",
    "plt.plot(degrees,losses_vt, marker=\".\", color='b')\n",
    "plt.xlabel(\"degree\")\n",
    "plt.ylabel(\"RMSE\")\n",
    "plt.title(\"Variation of the loss on the validation test depending on the degree of features expansion.\")"
   ]
  },
  {
   "cell_type": "code",
   "execution_count": null,
   "metadata": {},
   "outputs": [],
   "source": []
  },
  {
   "cell_type": "code",
   "execution_count": null,
   "metadata": {},
   "outputs": [],
   "source": [
    "# Thus, it looks like the best model is obtained with degree=4 (with no PCA)\n",
    "\n",
    "# We train again our model using all the data of the train set\n",
    "\n",
    "#CHANGE THE DEGREE WHEN NEEDED.\n",
    "degree=7\n",
    "tx = build_poly(input_data, degree)\n",
    "LS_ws = least_squares(yb, tx)\n",
    "print(LS_ws.shape)"
   ]
  },
  {
   "cell_type": "markdown",
   "metadata": {},
   "source": [
    "#### Prediction"
   ]
  },
  {
   "cell_type": "code",
   "execution_count": null,
   "metadata": {},
   "outputs": [],
   "source": [
    "# Predicting the labels of test set.\n",
    "test_data_expanded=build_poly(test_data,degree)\n",
    "LS_labels=predict_labels(LS_ws,test_data_expanded)\n",
    "print(LS_labels)\n",
    "\n",
    "# CHANGE THE NAME OF THE FILE.\n",
    "create_csv_submission(ids_test,LS_labels,'predictions_LS_ColRem_noPCA.csv')\n",
    "print('Prediction file created')"
   ]
  },
  {
   "cell_type": "markdown",
   "metadata": {},
   "source": [
    "### - Ridge Regression\n",
    "\n",
    "#### Creation of the model"
   ]
  },
  {
   "cell_type": "code",
   "execution_count": 9,
   "metadata": {},
   "outputs": [
    {
     "name": "stdout",
     "output_type": "stream",
     "text": [
      "[1.00000000e-05 2.27584593e-05 5.17947468e-05 1.17876863e-04\n",
      " 2.68269580e-04 6.10540230e-04 1.38949549e-03 3.16227766e-03\n",
      " 7.19685673e-03 1.63789371e-02 3.72759372e-02 8.48342898e-02\n",
      " 1.93069773e-01 4.39397056e-01 1.00000000e+00]\n",
      "Processing 1th experiment, rmse_tr=0.7777248984806157, rmse_vt=0.7889524656760406\n",
      "Processing 2th experiment, rmse_tr=0.7787463981972177, rmse_vt=0.7872038558688473\n",
      "Processing 3th experiment, rmse_tr=0.7802254009339602, rmse_vt=0.7836414809800712\n",
      "Processing 4th experiment, rmse_tr=0.7822546597654693, rmse_vt=0.7831994631970776\n",
      "Processing 5th experiment, rmse_tr=0.7843741090354501, rmse_vt=0.7858786278761948\n",
      "Processing 6th experiment, rmse_tr=0.7861633049056956, rmse_vt=0.7881213286351247\n",
      "Processing 7th experiment, rmse_tr=0.7877008935509202, rmse_vt=0.7888188072061494\n",
      "Processing 8th experiment, rmse_tr=0.7891937843875958, rmse_vt=0.789187885025823\n",
      "Processing 9th experiment, rmse_tr=0.7907627636494048, rmse_vt=0.790156137911689\n",
      "Processing 10th experiment, rmse_tr=0.7926958382403263, rmse_vt=0.792131907574939\n",
      "Processing 11th experiment, rmse_tr=0.7957945943904003, rmse_vt=0.7959742787493557\n",
      "Processing 12th experiment, rmse_tr=0.8015940585515312, rmse_vt=0.8030968214902797\n",
      "Processing 13th experiment, rmse_tr=0.8119358274933102, rmse_vt=0.8146569616004062\n",
      "Processing 14th experiment, rmse_tr=0.8271066172307662, rmse_vt=0.8300390126581039\n",
      "Processing 15th experiment, rmse_tr=0.8441432174855729, rmse_vt=0.8459903152561449\n"
     ]
    },
    {
     "data": {
      "text/plain": [
       "Text(0.5,1,'comparison between the loss on the validation and training sets depending on lambda (regularization parameter).')"
      ]
     },
     "execution_count": 9,
     "metadata": {},
     "output_type": "execute_result"
    },
    {
     "data": {
      "image/png": "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\n",
      "text/plain": [
       "<Figure size 432x288 with 1 Axes>"
      ]
     },
     "metadata": {},
     "output_type": "display_data"
    }
   ],
   "source": [
    "# Using Ridge regression with expanded features\n",
    "\n",
    "# We divide the set in 80% training and 20% test. This is done in order to obtain a loss on a small validation in test \n",
    "# to guess which is the best degree of expansion. \n",
    "# --> A better way to do this is of course Cross Validation (to implement)\n",
    "# --> Note that we did not perform randomization before dividing. Of course it would be better to do so, but our data do not look to be ordered anyway. \n",
    "\n",
    "ratio=0.8\n",
    "seed=4\n",
    "input_data_tr,validation_data,yb_tr,yb_vt=split_data(input_data,yb,ratio,seed)\n",
    "# Parameters\n",
    "degrees=np.array([1,2,3,4,5,6,7,8])\n",
    "degree=6\n",
    "lambdas = np.logspace(-5, 0, 15)\n",
    "print(lambdas)\n",
    "loss_vt = []\n",
    "loss_tr = []\n",
    "ws = []\n",
    "\n",
    "for ind, lambda_ in enumerate(lambdas):\n",
    "    # form dataset to do polynomial regression.\n",
    "    tx = build_poly(input_data_tr, degree)\n",
    "    #Note that the column of ones is already added by the function build_poly()\n",
    "\n",
    "    # least squares\n",
    "    weights = ridge_regression(yb_tr, tx, lambda_)\n",
    "    ws.append(weights)\n",
    "    \n",
    "    # Expanding the validation set\n",
    "    val_data=build_poly(validation_data,degree)\n",
    "    \n",
    "    # compute RMSE on the train set and the validation set\n",
    "    rmse_tr= np.sqrt(2 * compute_loss_MSE(yb_tr, tx, weights))\n",
    "    rmse_vt= np.sqrt(2 * compute_loss_MSE(yb_vt, val_data, weights))\n",
    "    loss_tr.append(rmse_tr)\n",
    "    loss_vt.append(rmse_vt)\n",
    "    print(\"Processing {i}th experiment, rmse_tr={loss_tr}, rmse_vt={loss_vt}\".format(\n",
    "          i=ind + 1, loss_tr=rmse_tr, loss_vt=rmse_vt))\n",
    "    \n",
    "plt.plot(lambdas,loss_tr,marker=\".\", color='r')\n",
    "plt.plot(lambdas,loss_vt, marker=\".\", color='b')\n",
    "plt.xlabel(\"lambda\")\n",
    "plt.ylabel(\"RMSE\")\n",
    "plt.title(\"comparison between the loss on the validation and training sets depending on lambda (regularization parameter).\")"
   ]
  },
  {
   "cell_type": "code",
   "execution_count": null,
   "metadata": {},
   "outputs": [],
   "source": [
    "# Thus, it looks like the best model is obtained with degree=4 (with no PCA)\n",
    "\n",
    "# We train again our model using all the data of the train set\n",
    "#CHANGE THE DEGREE WHEN NEEDED.\n",
    "degree=6\n",
    "print(lambdas[3])\n",
    "lambda_=lambdas[3]\n",
    "tx = build_poly(input_data, degree)\n",
    "RR_ws = ridge_regression(yb, tx, lambda_)\n",
    "print(RR_ws.shape)"
   ]
  },
  {
   "cell_type": "markdown",
   "metadata": {},
   "source": [
    "#### Prediction"
   ]
  },
  {
   "cell_type": "code",
   "execution_count": null,
   "metadata": {},
   "outputs": [],
   "source": [
    "# Predicting the labels of test set.\n",
    "test_data_expanded=build_poly(test_data,degree)\n",
    "RR_labels=predict_labels(RR_ws,test_data_expanded)\n",
    "print(RR_labels)\n",
    "\n",
    "# CHANGE THE NAME OF THE FILE.\n",
    "create_csv_submission(ids_test,RR_labels,'predictions_RR_Lasso_d6_3rdlambda_23features_normal.csv')\n",
    "print('Prediction file created')"
   ]
  },
  {
   "cell_type": "markdown",
   "metadata": {},
   "source": [
    "### - LASSO"
   ]
  },
  {
   "cell_type": "markdown",
   "metadata": {},
   "source": [
    "#### For features selection"
   ]
  },
  {
   "cell_type": "code",
   "execution_count": 4,
   "metadata": {},
   "outputs": [
    {
     "name": "stdout",
     "output_type": "stream",
     "text": [
      "(250000, 30)\n",
      "(250000, 21)\n"
     ]
    },
    {
     "name": "stderr",
     "output_type": "stream",
     "text": [
      "/anaconda3/lib/python3.6/site-packages/sklearn/linear_model/coordinate_descent.py:491: ConvergenceWarning: Objective did not converge. You might want to increase the number of iterations. Fitting data with very small alpha may cause precision problems.\n",
      "  ConvergenceWarning)\n"
     ]
    }
   ],
   "source": [
    "import sklearn as sk\n",
    "from sklearn.linear_model import Lasso\n",
    "from sklearn.datasets import load_iris\n",
    "from sklearn.feature_selection import SelectFromModel\n",
    "print(input_data.shape)\n",
    "lasso = Lasso(alpha=0.01, fit_intercept=True, normalize=False, precompute=False, copy_X=True, max_iter=100000, tol=0.0001, warm_start=False, positive=False, random_state=None, selection='cyclic').fit(input_data,yb)\n",
    "model = SelectFromModel(lasso, prefit=True)\n",
    "X_new = model.transform(input_data)\n",
    "print(X_new.shape)"
   ]
  },
  {
   "cell_type": "code",
   "execution_count": 5,
   "metadata": {},
   "outputs": [
    {
     "name": "stdout",
     "output_type": "stream",
     "text": [
      "(array([ 0,  1,  2,  3,  4,  5,  6,  7,  8,  9, 10, 11, 12, 16, 19, 21, 23,\n",
      "       24, 25, 26, 29]),)\n",
      "[ 1.14189845e-04 -7.62951407e-03 -5.17294943e-03 -9.56117856e-04\n",
      "  2.07400839e-03  5.83875823e-04 -8.31458136e-03  2.66527879e-01\n",
      " -1.96912465e-04  9.74822012e-03 -1.27117863e-01  8.77910713e-02\n",
      "  3.86267203e-03  0.00000000e+00 -0.00000000e+00 -0.00000000e+00\n",
      "  4.23886951e-04 -0.00000000e+00  0.00000000e+00  4.13283052e-03\n",
      "  0.00000000e+00 -5.00562007e-04 -0.00000000e+00  1.60015714e-03\n",
      " -8.24116898e-04 -6.56880006e-04  1.80525195e-03 -0.00000000e+00\n",
      " -0.00000000e+00 -1.24889238e-02]\n",
      "(568238, 30)\n",
      "(568238, 21)\n"
     ]
    }
   ],
   "source": [
    "input_data=X_new\n",
    "idx_rem=np.where(lasso.coef_!=0)\n",
    "#idx_rem=np.ndarray.tolist(idx_rem[0])\n",
    "print(idx_rem)\n",
    "print(lasso.coef_)\n",
    "print(test_data.shape)\n",
    "test_data=test_data[:,idx_rem[0]]\n",
    "print(test_data.shape)"
   ]
  },
  {
   "cell_type": "code",
   "execution_count": 6,
   "metadata": {},
   "outputs": [],
   "source": [
    "input_data_,_,_=standardize(input_data)\n",
    "test_data_,_,_=standardize(test_data)"
   ]
  },
  {
   "cell_type": "code",
   "execution_count": 7,
   "metadata": {},
   "outputs": [],
   "source": [
    "input_data = input_data_\n",
    "test_data = test_data_\n"
   ]
  },
  {
   "cell_type": "code",
   "execution_count": null,
   "metadata": {},
   "outputs": [],
   "source": [
    "print(input_data.shape)"
   ]
  },
  {
   "cell_type": "markdown",
   "metadata": {},
   "source": []
  }
 ],
 "metadata": {
  "kernelspec": {
   "display_name": "Python 3",
   "language": "python",
   "name": "python3"
  },
  "language_info": {
   "codemirror_mode": {
    "name": "ipython",
    "version": 3
   },
   "file_extension": ".py",
   "mimetype": "text/x-python",
   "name": "python",
   "nbconvert_exporter": "python",
   "pygments_lexer": "ipython3",
   "version": "3.7.0"
  }
 },
 "nbformat": 4,
 "nbformat_minor": 2
}

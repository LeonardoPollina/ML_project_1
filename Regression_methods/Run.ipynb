{
 "cells": [
  {
   "cell_type": "markdown",
   "metadata": {},
   "source": [
    "# Temporary\n",
    "\n",
    "The next cells will be substituted with import implementations_new.py"
   ]
  },
  {
   "cell_type": "code",
   "execution_count": 1,
   "metadata": {},
   "outputs": [],
   "source": [
    "import numpy as np\n",
    "import matplotlib.pyplot as plt\n",
    "%load_ext autoreload\n",
    "%autoreload 2\n",
    "%matplotlib inline\n",
    "import time \n",
    "\n",
    "#to keep things in order, and to avoid to copy and paste everytime our functions if we want to use them in more than one folder,\n",
    "#we can temporarily use this library. \n",
    "import sys\n",
    "\n",
    "#in this way Python will search the implementations also in the path '../HelperFunctions'\n",
    "sys.path.insert(0, '../HelperFunctions')\n",
    "sys.path.insert(0, '../pre-processing/Clean_Data/')\n",
    "sys.path.insert(0, '../pre-processing/PCA/')\n",
    "\n",
    "from proj1_helpers import *\n",
    "from common_functions import *\n",
    "from counters import *\n",
    "from remove import *\n",
    "from replace import *\n",
    "from regressors import *\n",
    "from CrossValidationFunctions import *\n",
    "from pca_functions import *"
   ]
  },
  {
   "cell_type": "code",
   "execution_count": 2,
   "metadata": {},
   "outputs": [],
   "source": [
    "def removeConstantColumns(data):\n",
    "    '''Remove columns which are constants from the data.\n",
    "       \n",
    "       Return data, idx_removed\n",
    "    '''\n",
    "    std = np.std(data, axis = 0)\n",
    "    idx_removed = np.where(std==0)[0]\n",
    "    if len(idx_removed >0 ):\n",
    "        data = np.delete(data,idx_removed,axis=1)\n",
    "    \n",
    "    return data, idx_removed\n",
    "\n",
    "def removeHighCorrelatedColumns(data, threshold = 0.8):\n",
    "    '''Remove columns which are highly correlated.\n",
    "       \n",
    "       WARNING: the returned list idx_removed MUST be used in a for loop on the test data, removing features one by one\n",
    "       \n",
    "       Return data, idx_removed\n",
    "    '''\n",
    "    #initialize idx_removed\n",
    "    idx_removed = []\n",
    "        \n",
    "    #Get first elements of the highly correlated couples\n",
    "    R = np.ma.corrcoef(data.T)\n",
    "    idx_HC = np.where( (R > threshold) & (R < 0.98))[0] \n",
    "\n",
    "    while(idx_HC.shape[0] > 0):\n",
    "        \n",
    "        idx_to_remove = idx_HC.max()\n",
    "        \n",
    "        data = np.delete(data, idx_to_remove, axis=1)\n",
    "        idx_removed.append(idx_to_remove)\n",
    "        \n",
    "        #compute the correlation coefficients of the reduced dataset\n",
    "        R = np.ma.corrcoef(data.T)\n",
    "        idx_HC = np.where( (R > threshold) & (R < 0.98))[0] \n",
    "        \n",
    "    \n",
    "    return data, idx_removed\n",
    "\n",
    "def grid_search_hyperparam_with_CV(y, tx, lambdas, degrees):\n",
    "    loss_tr = np.zeros((len(lambdas), len(degrees)))\n",
    "    loss_te = np.zeros((len(lambdas), len(degrees)))\n",
    "    accuracy = np.zeros((len(lambdas), len(degrees)))\n",
    "    \n",
    "    for idx_lambda, lambda_ in enumerate(lambdas):\n",
    "        for idx_degree, degree in enumerate(degrees):\n",
    "                        \n",
    "            x_augmented = build_poly(tx, degree)\n",
    "            \n",
    "            #regression with your favourite method\n",
    "            k_indices = build_k_indices(y, 4, 1)\n",
    "            acc, loss1, loss2 = cross_validation_with_ridge(y, x_augmented, k_indices, lambda_)\n",
    "            \n",
    "            loss_tr[idx_lambda, idx_degree] = loss1\n",
    "            loss_te[idx_lambda, idx_degree] = loss2\n",
    "            accuracy[idx_lambda, idx_degree] = acc\n",
    "    \n",
    "    #find the best using the loss\n",
    "    min_loss_te = np.min(loss_te)\n",
    "    best_lambda_loss = lambdas[ np.where( loss_te == min_loss_te )[0] ]\n",
    "    best_degree_loss = degrees[ np.where( loss_te == min_loss_te )[1] ]\n",
    "\n",
    "    #recompute best w\n",
    "    x_augmented = build_poly(tx, int(best_degree_loss))\n",
    "    best_w_loss = ridge_regression(y,x_augmented,best_lambda_loss)\n",
    "    \n",
    "    #find the best using the accuracy\n",
    "    max_acc = np.max(accuracy)\n",
    "    best_lambda_acc = lambdas[ np.where( accuracy == max_acc )[0] ]\n",
    "    best_degree_acc = degrees[ np.where( accuracy == max_acc )[1] ]\n",
    "    \n",
    "    #recompute best w\n",
    "    x_augmented = build_poly(tx, int(best_degree_acc[0]))\n",
    "    best_w_acc = ridge_regression(y,x_augmented,best_lambda_acc[0])\n",
    "\n",
    "    return best_lambda_loss, best_degree_loss, best_w_loss, best_lambda_acc, best_degree_acc, best_w_acc, loss_tr, loss_te, accuracy\n"
   ]
  },
  {
   "cell_type": "markdown",
   "metadata": {},
   "source": [
    "# Correlation/PCA\n",
    "\n",
    "At first, we wanted to explore the correlation pattern of the dataset, to check whether it was possibile to reduce the dimensionality of our features.\n",
    "<br> <br>\n",
    "We illustrate here the results for the whole dataset without any preprocessing, as a benchmark case. The results were a little bit better when we replaced the invalid value and when we divided in subsets according to the jet number, but the overall behaviour was the same."
   ]
  },
  {
   "cell_type": "code",
   "execution_count": 3,
   "metadata": {},
   "outputs": [],
   "source": [
    "# Compute the correlation coefficients matrix\n",
    "yb, input_data, ids = load_csv_data(\"../data/train.csv\", sub_sample=False)\n",
    "R = np.ma.corrcoef(input_data.T)\n",
    "\n",
    "# PCA\n",
    "standardized_data,_,_ = standardize(input_data)\n",
    "percVariance, _ = PCAWithCovariance(standardized_data)\n",
    "cumulativeVariance = np.cumsum (percVariance)\n",
    "\n"
   ]
  },
  {
   "cell_type": "code",
   "execution_count": 4,
   "metadata": {},
   "outputs": [
    {
     "name": "stdout",
     "output_type": "stream",
     "text": [
      "\n"
     ]
    },
    {
     "data": {
      "image/png": "[encoded data removed]",
      "text/plain": [
       "<Figure size 720x288 with 3 Axes>"
      ]
     },
     "metadata": {},
     "output_type": "display_data"
    }
   ],
   "source": [
    "fig = plt.figure(figsize = (10,4))\n",
    "\n",
    "plt.subplot(121)\n",
    "plt.imshow(R)\n",
    "plt.colorbar()\n",
    "plt.title('Correlation')\n",
    "plt.xlabel('Feature')\n",
    "plt.ylabel('Feature')\n",
    "\n",
    "plt.subplot(122)\n",
    "plt.plot(cumulativeVariance, '-d')\n",
    "plt.title('Cumulated captured variance of PCs')\n",
    "plt.xlabel('Principal component')\n",
    "plt.ylabel('Cumulated variance')\n",
    "\n",
    "print('')"
   ]
  },
  {
   "cell_type": "markdown",
   "metadata": {},
   "source": [
    "There seems to be high correlation between some variables, and the PCA shows that we need way less than 30 principal components to describe a relevant percentage of the variance. This two results lead us to try to delete the highly correlated variables from the dataset. We have also tried, instead, to do the regression with the features given by the PCA, but the results was not promising enough.\n",
    "\n",
    "<br> <br>\n",
    "Presence of constant columns when the dataset is splitted in the 3 subsets has been also taken into account. <br> \n",
    "This allows us to save a lot of computational effort, since we already have one constant column (added via the function build_poly) in our regression. "
   ]
  },
  {
   "cell_type": "code",
   "execution_count": 5,
   "metadata": {},
   "outputs": [
    {
     "name": "stdout",
     "output_type": "stream",
     "text": [
      "The white zones in the plots refer to constant columns\n"
     ]
    },
    {
     "data": {
      "image/png": "[encoded data removed]",
      "text/plain": [
       "<Figure size 864x288 with 3 Axes>"
      ]
     },
     "metadata": {},
     "output_type": "display_data"
    }
   ],
   "source": [
    "idx0 = np.where(input_data[:,22]==0)\n",
    "idx1 = np.where(input_data[:,22]==1)\n",
    "idx2 = np.where(input_data[:,22]>=2)\n",
    "\n",
    "x0 = input_data[idx0] \n",
    "x1 = input_data[idx1] \n",
    "x2 = input_data[idx2] \n",
    "\n",
    "fig = plt.figure(figsize = (12,4))\n",
    "\n",
    "plt.subplot(131)\n",
    "R = np.ma.corrcoef(x0.T)\n",
    "plt.imshow(R)\n",
    "plt.title('Correlation, jet 0')\n",
    "plt.xlabel('Feature')\n",
    "plt.ylabel('Feature')\n",
    "\n",
    "plt.subplot(132)\n",
    "R = np.ma.corrcoef(x1.T)\n",
    "plt.imshow(R)\n",
    "plt.title('Correlation, jet 1')\n",
    "plt.xlabel('Feature')\n",
    "plt.ylabel('Feature')\n",
    "\n",
    "plt.subplot(133)\n",
    "R = np.ma.corrcoef(x2.T)\n",
    "plt.imshow(R)\n",
    "plt.title('Correlation, jet >1')\n",
    "plt.xlabel('Feature')\n",
    "plt.ylabel('Feature')\n",
    "\n",
    "print('The white zones in the plots refer to constant columns')"
   ]
  },
  {
   "cell_type": "markdown",
   "metadata": {},
   "source": [
    "# Set preprocessing parameters"
   ]
  },
  {
   "cell_type": "code",
   "execution_count": 6,
   "metadata": {},
   "outputs": [],
   "source": [
    "# Do you want to repace the -999 with zeros?\n",
    "ReplaceToZero_FLAG = True\n",
    "\n",
    "# Do you want to remove the highly correlated columns from the datasets\n",
    "RemoveHCColumns_FLAG = False\n",
    "CorrelationThreshold = 0.8"
   ]
  },
  {
   "cell_type": "markdown",
   "metadata": {},
   "source": [
    "# Preprocessing\n",
    "First, we handle the invalid values."
   ]
  },
  {
   "cell_type": "code",
   "execution_count": 7,
   "metadata": {},
   "outputs": [
    {
     "name": "stdout",
     "output_type": "stream",
     "text": [
      "Replacing -999 with 0.\n"
     ]
    }
   ],
   "source": [
    "# Reload the data, the first part had explanatory purposes. Here we want to start from scratch, and to repeat step by step\n",
    "# the manipulations that we applied \n",
    "yb, input_data, ids = load_csv_data(\"../data/train.csv\", sub_sample=False)\n",
    "\n",
    "# Replace -999 with zeros\n",
    "if ReplaceToZero_FLAG:\n",
    "    print('Replacing -999 with 0.')\n",
    "    numInvalidValues=countInvalid(input_data, -999)\n",
    "    idxCols = np.where(numInvalidValues>0)[0]\n",
    "    input_data = replaceWithZero(input_data,-999,idxCols)"
   ]
  },
  {
   "cell_type": "markdown",
   "metadata": {},
   "source": [
    "Now we are going to divide the dataset in 3 different datasets, according to the number of jets. <br><br>\n",
    "Since in the new division some columns will have constant values, we will also delete those columns and save the indices in order do the same preprocessing when we want to use our model to predict.\n",
    "<br><br>\n",
    "Finally, note that we keep the mean and the std of the train set. These parameters will be used to perform the standardization in the prediction phase"
   ]
  },
  {
   "cell_type": "code",
   "execution_count": 8,
   "metadata": {},
   "outputs": [],
   "source": [
    "idx0 = np.where(input_data[:,22]==0)\n",
    "idx1 = np.where(input_data[:,22]==1)\n",
    "idx2 = np.where(input_data[:,22]>=2)\n",
    "\n",
    "x0 = input_data[idx0] \n",
    "x1 = input_data[idx1] \n",
    "x2 = input_data[idx2] \n",
    "\n",
    "y0 = yb[idx0]\n",
    "y1 = yb[idx1]\n",
    "y2 = yb[idx2]\n",
    "\n",
    "#only the first 2 subsets have const columns\n",
    "x0, idx_constants_removed0 = removeConstantColumns(x0)\n",
    "x1, idx_constants_removed1 = removeConstantColumns(x1)\n",
    "\n",
    "\n",
    "x0, mean_train0, std_train0 = standardize ( x0 )\n",
    "x1, mean_train1, std_train1 = standardize ( x1 )\n",
    "x2, mean_train2, std_train2 = standardize ( x2 )"
   ]
  },
  {
   "cell_type": "markdown",
   "metadata": {},
   "source": [
    "We are left with dealing with the correlated columns."
   ]
  },
  {
   "cell_type": "code",
   "execution_count": 9,
   "metadata": {},
   "outputs": [],
   "source": [
    "if RemoveHCColumns_FLAG:\n",
    "    print('Removing highly correlated columns.')\n",
    "    x0, idx_HC_removed0 = removeHighCorrelatedColumns(x0, CorrelationThreshold)\n",
    "    x1, idx_HC_removed1 = removeHighCorrelatedColumns(x1, CorrelationThreshold)\n",
    "    x2, idx_HC_removed2 = removeHighCorrelatedColumns(x2, CorrelationThreshold)\n",
    "else:\n",
    "    idx_HC_removed0 = []\n",
    "    idx_HC_removed0 = []\n",
    "    idx_HC_removed0 = []"
   ]
  },
  {
   "cell_type": "markdown",
   "metadata": {},
   "source": [
    "# Training\n",
    "Grid search to find the best degree and the best lambda.\n",
    "<br><br>\n",
    "For each couple (lambda, degree) we trained the model using <b>ridge regression with 4-fold cross validation</b>. Since this is not a classifier, the goodness of the model is evaluated using the mean of the 4 accuracies (i.e. the percentage of correct predictions) on the validations set of the cross validation."
   ]
  },
  {
   "cell_type": "code",
   "execution_count": 10,
   "metadata": {},
   "outputs": [
    {
     "name": "stdout",
     "output_type": "stream",
     "text": [
      "LOSS\n",
      "Model with 0 jets:  lambda = [0.001], degree = [8], loss = 73926231438.08304\n",
      "Model with 1 jets:  lambda = [0.001], degree = [8], loss = 4.992386989219517\n",
      "Model with >1 jets: lambda = [0.001], degree = [8], loss = 5.73921297018223\n",
      "\n",
      "\n",
      "ACCURACY\n",
      "Model with 0 jets:  lambda = [5.35789474e-05], degree = [11], accuracy = 0.8431319561213869\n",
      "Model with 1 jets:  lambda = [0.00047421], degree = [12], accuracy = 0.8065743319921592\n",
      "Model with >1 jets: lambda = [0.00010616], degree = [13], accuracy = 0.8326164874551971\n",
      "\n",
      "\n",
      "Our validation set reached a global accuracy of 0.828741363925674\n"
     ]
    }
   ],
   "source": [
    "lambdas0 = np.linspace(1e-6,0.001,20) \n",
    "lambdas1 = np.linspace(1e-6,0.001,20) \n",
    "lambdas2 = np.linspace(1e-6,0.001,20) \n",
    "\n",
    "degrees = np.arange(8,15)\n",
    "\n",
    "\n",
    "best_lambda_loss0, best_degree_loss0, best_w_loss0, best_lambda_acc0, best_degree_acc0, best_w_acc0, loss_tr0, loss_te0, accuracy0 = \\\n",
    "grid_search_hyperparam_with_CV(y0, x0, lambdas0, degrees)\n",
    "\n",
    "best_lambda_loss1, best_degree_loss1, best_w_loss1, best_lambda_acc1, best_degree_acc1, best_w_acc1, loss_tr1, loss_te1, accuracy1 = \\\n",
    "grid_search_hyperparam_with_CV(y1, x1, lambdas1, degrees)\n",
    "\n",
    "best_lambda_loss2, best_degree_loss2, best_w_loss2, best_lambda_acc2, best_degree_acc2, best_w_acc2, loss_tr2, loss_te2, accuracy2 = \\\n",
    "grid_search_hyperparam_with_CV(y2, x2, lambdas2, degrees)\n",
    "\n",
    "print('LOSS')\n",
    "print(f'Model with 0 jets:  lambda = {best_lambda_loss0}, degree = {best_degree_loss0}, loss = {np.min(loss_te0)}')\n",
    "print(f'Model with 1 jets:  lambda = {best_lambda_loss1}, degree = {best_degree_loss1}, loss = {np.min(loss_te1)}')\n",
    "print(f'Model with >1 jets: lambda = {best_lambda_loss2}, degree = {best_degree_loss2}, loss = {np.min(loss_te2)}')\n",
    "\n",
    "print('\\n\\nACCURACY')\n",
    "print(f'Model with 0 jets:  lambda = {best_lambda_acc0}, degree = {best_degree_acc0}, accuracy = {np.max(accuracy0)}')\n",
    "print(f'Model with 1 jets:  lambda = {best_lambda_acc1}, degree = {best_degree_acc1}, accuracy = {np.max(accuracy1)}')\n",
    "print(f'Model with >1 jets: lambda = {best_lambda_acc2}, degree = {best_degree_acc2}, accuracy = {np.max(accuracy2)}')\n",
    "\n",
    "\n",
    "N0 = x0.shape[0]\n",
    "N1 = x1.shape[0]\n",
    "N2 = x2.shape[0]\n",
    "\n",
    "#This is a good estimate of the goodness of our model\n",
    "TOTAccuracy = ( N0*np.max(accuracy0) + N1*np.max(accuracy1) + N2*np.max(accuracy2) ) / ( N0 + N1 + N2 )\n",
    "print(f'\\n\\nOur validation set reached a global accuracy of {TOTAccuracy}')"
   ]
  },
  {
   "cell_type": "code",
   "execution_count": 112,
   "metadata": {},
   "outputs": [
    {
     "data": {
      "image/png": "[encoded data removed]",
      "text/plain": [
       "<Figure size 720x288 with 4 Axes>"
      ]
     },
     "metadata": {},
     "output_type": "display_data"
    }
   ],
   "source": [
    "from matplotlib.gridspec import GridSpec\n",
    "\n",
    "fig = plt.figure(figsize=(10,4))\n",
    "\n",
    "gs = GridSpec(2,2) # 2 rows, 3 columns\n",
    "\n",
    "ax1 = fig.add_subplot(gs[:,1])\n",
    "Y = lambdas1*1e3\n",
    "X = degrees\n",
    "X, Y = np.meshgrid(X, Y)\n",
    "Z = 1 - accuracy1\n",
    "\n",
    "loss = ax1.contourf(X, Y, Z)\n",
    "ax1.plot(best_degree_acc1, best_lambda_acc1*1e3, '*', color='r', markersize=20)\n",
    "fig.colorbar(loss, ax=ax1)\n",
    "ax1.set_ylabel('Lambdas (1e-3)')\n",
    "ax1.set_xlabel('Degrees')\n",
    "ax1.set_title('1 - accuracy')\n",
    "\n",
    "\n",
    "ax2 = fig.add_subplot(gs[0,0])\n",
    "ax2.plot(lambdas1*1e3, 1-accuracy1[:,idx_deg])\n",
    "ax2.set_ylabel('1 - accuracy')\n",
    "ax2.set_xlabel('Lambdas (1e-3)')\n",
    "ax2.set_title(f'Degree = {best_degree_acc1[0]}')\n",
    "starx = best_lambda_acc1*1e3\n",
    "stary = np.min(1-accuracy1[:,idx_deg])\n",
    "ax2.plot(starx, stary, '*', color='r', markersize=10)\n",
    "\n",
    "ax2 = fig.add_subplot(gs[1,0])\n",
    "ax2.plot(degrees, 1-accuracy1[idx_lam,:])\n",
    "ax2.set_ylabel('1 - accuracy')\n",
    "ax2.set_xlabel('Degrees')\n",
    "#ax2.set_title(f'Lambda = {best_lambda_acc1[0]*1e3}*1e-3')\n",
    "ax2.set_title(f'Lambda = 0.47*1e-3')\n",
    "starx = best_degree_acc1\n",
    "stary = np.min(1-accuracy1[idx_lam,:])\n",
    "ax2.plot(starx, stary, '*', color='r', markersize=10)\n",
    "\n",
    "fig.subplots_adjust(hspace=.7)\n",
    "\n",
    "fig.savefig(\"Search_hyperparam\") "
   ]
  },
  {
   "cell_type": "markdown",
   "metadata": {},
   "source": [
    "# Submission"
   ]
  },
  {
   "cell_type": "code",
   "execution_count": 11,
   "metadata": {},
   "outputs": [],
   "source": [
    "_, test_data, ids_test = load_csv_data(\"../data/test.csv\", sub_sample=False)\n",
    "num_tests = test_data.shape[0]"
   ]
  },
  {
   "cell_type": "markdown",
   "metadata": {},
   "source": [
    "We need to repeat the same manipulations applied on the train set also on the test set."
   ]
  },
  {
   "cell_type": "code",
   "execution_count": 12,
   "metadata": {},
   "outputs": [
    {
     "name": "stdout",
     "output_type": "stream",
     "text": [
      "Replacing -999 with 0.\n"
     ]
    }
   ],
   "source": [
    "# handle invalid data\n",
    "if ReplaceToZero_FLAG:\n",
    "    print('Replacing -999 with 0.')\n",
    "    numInvalidValues=countInvalid(test_data, -999)\n",
    "    idxCols = np.where(numInvalidValues>0)[0]\n",
    "    test_data = replaceWithZero(test_data,-999,idxCols)\n",
    "\n",
    "    \n",
    "# jets division\n",
    "idx0 = np.where(test_data[:,22]==0)\n",
    "idx1 = np.where(test_data[:,22]==1)\n",
    "idx2 = np.where(test_data[:,22]>=2)\n",
    "x0 = test_data[idx0] \n",
    "x1 = test_data[idx1] \n",
    "x2 = test_data[idx2] \n",
    "\n",
    "# remove const. columns\n",
    "x0 = np.delete(x0, idx_constants_removed0, axis=1)\n",
    "x1 = np.delete(x1, idx_constants_removed1, axis=1)\n",
    "\n",
    "\n",
    "# standardization with train parameters\n",
    "x0,_,_ = standardize ( x0, mean_train0, std_train0 )\n",
    "x1,_,_ = standardize ( x1, mean_train1, std_train1 )\n",
    "x2,_,_ = standardize ( x2, mean_train2, std_train2 )\n",
    "\n",
    "# removing higly correlated columns\n",
    "if(RemoveHCColumns_FLAG):\n",
    "    print('Removing highly correlated columns.')\n",
    "    for i in idx_HC_removed0:\n",
    "        x0 = np.delete(x0,i,axis=1)\n",
    "    for i in idx_HC_removed1:\n",
    "        x1 = np.delete(x1,i,axis=1)\n",
    "    for i in idx_HC_removed2:\n",
    "        x2 = np.delete(x2,i,axis=1)"
   ]
  },
  {
   "cell_type": "markdown",
   "metadata": {},
   "source": [
    "Now we need to use the results of the regression to make the prediction"
   ]
  },
  {
   "cell_type": "code",
   "execution_count": 13,
   "metadata": {},
   "outputs": [],
   "source": [
    "# augment the feature according to the best degree\n",
    "x0 = build_poly(x0, int(best_degree_acc0[0]))\n",
    "x1 = build_poly(x1, int(best_degree_acc1[0]))\n",
    "x2 = build_poly(x2, int(best_degree_acc2[0]))\n",
    "\n",
    "# for each subset, predict its output\n",
    "y_pred0 = predict_labels(best_w_acc0,x0)\n",
    "y_pred1 = predict_labels(best_w_acc1,x1)\n",
    "y_pred2 = predict_labels(best_w_acc2,x2)\n",
    "\n",
    "# recompose the whole predicion\n",
    "y_pred = np.ones(num_tests)\n",
    "y_pred[idx0] = y_pred0\n",
    "y_pred[idx1] = y_pred1\n",
    "y_pred[idx2] = y_pred2"
   ]
  },
  {
   "cell_type": "code",
   "execution_count": 14,
   "metadata": {},
   "outputs": [],
   "source": [
    "create_csv_submission(ids_test, y_pred, 'FinalModel.csv')"
   ]
  }
 ],
 "metadata": {
  "kernelspec": {
   "display_name": "Python 3",
   "language": "python",
   "name": "python3"
  },
  "language_info": {
   "codemirror_mode": {
    "name": "ipython",
    "version": 3
   },
   "file_extension": ".py",
   "mimetype": "text/x-python",
   "name": "python",
   "nbconvert_exporter": "python",
   "pygments_lexer": "ipython3",
   "version": "3.6.5"
  }
 },
 "nbformat": 4,
 "nbformat_minor": 2
}

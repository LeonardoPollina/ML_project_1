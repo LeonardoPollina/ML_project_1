{
 "cells": [
  {
   "cell_type": "code",
   "execution_count": 1,
   "metadata": {},
   "outputs": [],
   "source": [
    "import numpy as np\n",
    "import matplotlib.pyplot as plt\n",
    "%load_ext autoreload\n",
    "%autoreload 2\n",
    "%matplotlib inline\n",
    "import time \n",
    "\n",
    "#to keep things in order, and to avoid to copy and paste everytime our functions if we want to use them in more than one folder,\n",
    "#we can temporarily use this library. \n",
    "import sys\n",
    "\n",
    "#in this way Python will search the implementations also in the path '../HelperFunctions'\n",
    "sys.path.insert(0, '../HelperFunctions')\n",
    "sys.path.insert(0, '../pre-processing/Clean_Data/')\n",
    "\n",
    "from proj1_helpers import *\n",
    "from common_functions import *\n",
    "from counters import *\n",
    "from remove import *\n",
    "from replace import *\n",
    "from regressors import *"
   ]
  },
  {
   "cell_type": "markdown",
   "metadata": {},
   "source": [
    "# Loading data"
   ]
  },
  {
   "cell_type": "code",
   "execution_count": 2,
   "metadata": {},
   "outputs": [
    {
     "name": "stdout",
     "output_type": "stream",
     "text": [
      "[ 1. -1. -1. ...  1. -1. -1.]\n",
      "(array([     1,      2,      3, ..., 249996, 249998, 249999]),)\n",
      "[1. 0. 0. ... 1. 0. 0.]\n"
     ]
    }
   ],
   "source": [
    "yb, input_data, ids = load_csv_data(\"../data/train.csv\", sub_sample=False)\n",
    "_, test_data, ids_test = load_csv_data(\"../data/test.csv\", sub_sample=False)\n",
    "\n",
    "#this will surely be deleted, in this way we are sure that original_data is the original version of the data and we don't have\n",
    "#to load them again\n",
    "from copy import deepcopy\n",
    "originalData = deepcopy(input_data)\n",
    "originalY = deepcopy(yb)\n",
    "print(yb)\n",
    "\n",
    "# change the label of -1 to 0 for simplicity. \n",
    "idx_wrong=np.where(yb==-1)\n",
    "print(idx_wrong)\n",
    "yb[idx_wrong]=0\n",
    "print(yb)"
   ]
  },
  {
   "cell_type": "markdown",
   "metadata": {},
   "source": [
    "# Pre-processing"
   ]
  },
  {
   "cell_type": "markdown",
   "metadata": {},
   "source": [
    "### Removing the columns with bad data and standardization"
   ]
  },
  {
   "cell_type": "code",
   "execution_count": 3,
   "metadata": {},
   "outputs": [
    {
     "name": "stdout",
     "output_type": "stream",
     "text": [
      "(250000, 30)\n",
      "(250000,)\n",
      "(250000, 19)\n"
     ]
    }
   ],
   "source": [
    "input_data = deepcopy(originalData)\n",
    "y = deepcopy(originalY)\n",
    "print(input_data.shape)\n",
    "print(y.shape)\n",
    "# Stocking the indexes of columns to remove\n",
    "idxCols = np.where(countInvalid(input_data,-999)>0)[0]\n",
    "input_data=removeColumns(input_data,0)\n",
    "print(input_data.shape)\n",
    "input_data,_,_ = standardize(input_data)"
   ]
  },
  {
   "cell_type": "markdown",
   "metadata": {},
   "source": [
    "### Same pre-processing applied on test dataset"
   ]
  },
  {
   "cell_type": "code",
   "execution_count": 4,
   "metadata": {},
   "outputs": [
    {
     "name": "stdout",
     "output_type": "stream",
     "text": [
      "(568238, 30)\n",
      "(568238, 19)\n"
     ]
    }
   ],
   "source": [
    "print(test_data.shape)\n",
    "# To remove the same data we removed from the train set.\n",
    "test_data=np.delete(test_data,idxCols,axis=1)\n",
    "print(test_data.shape)\n",
    "test_data,_,_ = standardize(test_data)"
   ]
  },
  {
   "cell_type": "markdown",
   "metadata": {},
   "source": [
    "### Just replacing the invalid values with 0 and standardizing"
   ]
  },
  {
   "cell_type": "code",
   "execution_count": null,
   "metadata": {},
   "outputs": [],
   "source": [
    "idxCols=np.where(countInvalid(input_data,-999)>0)[0]\n",
    "\n",
    "#Replacing with 0 all the bad values in the train set (-999)\n",
    "input_data=replaceWithZero(input_data,-999,idxCols)\n",
    "input_data,_,_=standardize(input_data)\n",
    "print('Size of the train set :', input_data.shape)"
   ]
  },
  {
   "cell_type": "markdown",
   "metadata": {},
   "source": [
    "### Same on the test set"
   ]
  },
  {
   "cell_type": "code",
   "execution_count": null,
   "metadata": {},
   "outputs": [],
   "source": [
    "#Replacing with 0 all the bad values in the test set (-999)\n",
    "\n",
    "# If I use the same idxCols, it means that we replace with 0 the invalide values in the colums containing invalid \n",
    "# values in the train set. What if there are other invalid values in other columns? Should we replace them too? Or it \n",
    "# would be not consistent?\n",
    "test_data=replaceWithZero(test_data,-999,idxCols)\n",
    "test_data,_,_=standardize(test_data)\n",
    "print('Size of the test set :', test_data.shape)"
   ]
  },
  {
   "cell_type": "markdown",
   "metadata": {},
   "source": [
    "# PCA"
   ]
  },
  {
   "cell_type": "code",
   "execution_count": null,
   "metadata": {},
   "outputs": [],
   "source": [
    "#Generating the principal components\n",
    "sys.path.insert(0, '../pre-processing/PCA/')\n",
    "from pca_functions import PCAWithCovariance\n",
    "\n",
    "input_data,_,_ = standardize(input_data)\n",
    "test_data,_,_ = standardize(test_data)\n",
    "\n",
    "_,eV = PCAWithCovariance(input_data)\n",
    "\n",
    "N = 7 #num p. components\n",
    "components = np.empty(input_data.shape[0])\n",
    "for i in range(N):\n",
    "    components = np.c_[components, input_data.dot(eV[:,i])]\n",
    "    \n",
    "print(components.shape)\n",
    "print(components[:,0])\n",
    "input_data=components[:,1:]\n",
    "#input_data = np.c_[np.ones(input_data.shape[0]), components]\n",
    "print(input_data.shape)\n",
    "print(input_data[:,0])\n",
    "print(input_data[:,1])"
   ]
  },
  {
   "cell_type": "markdown",
   "metadata": {},
   "source": [
    "### PCA applied on test dataset"
   ]
  },
  {
   "cell_type": "code",
   "execution_count": null,
   "metadata": {},
   "outputs": [],
   "source": [
    "N = 7 #num p. components\n",
    "components = np.empty(test_data.shape[0])\n",
    "for i in range(N):\n",
    "    components = np.c_[components, test_data.dot(eV[:,i])]\n",
    "test_data=components[:,1:]\n",
    "#test_data = np.c_[np.ones(test_data.shape[0]), components]"
   ]
  },
  {
   "cell_type": "markdown",
   "metadata": {},
   "source": [
    "# Regression"
   ]
  },
  {
   "cell_type": "markdown",
   "metadata": {},
   "source": [
    "### - Gradient Descent\n",
    "\n",
    "#### Creation of the model"
   ]
  },
  {
   "cell_type": "code",
   "execution_count": null,
   "metadata": {},
   "outputs": [],
   "source": [
    "# Using Gradient-Descent regressor\n",
    "\n",
    "max_iters=100\n",
    "#With gamma = 0.7 loss huuuuge\n",
    "gamma=0.01\n",
    "\n",
    "w_initial=np.array(np.zeros(input_data.shape[1]))\n",
    "\n",
    "#Start\n",
    "GD_loss,GD_ws= gradient_descent(yb,input_data,w_initial,max_iters,gamma)\n",
    "\n",
    "#Print results\n",
    "print(\"Gradient Descent final loss =\",  GD_loss)\n",
    "print(\"Weights =\",GD_ws)"
   ]
  },
  {
   "cell_type": "markdown",
   "metadata": {},
   "source": [
    "#### Prediction"
   ]
  },
  {
   "cell_type": "code",
   "execution_count": null,
   "metadata": {},
   "outputs": [],
   "source": [
    "# Predicting the labels of test dataset.\n",
    "GD_labels=predict_labels(GD_ws,test_data)\n",
    "print(GD_labels)\n",
    "\n",
    "create_csv_submission(ids_test,GD_labels,'predictions_GD_PCA.csv')\n",
    "print('Prediction file created')"
   ]
  },
  {
   "cell_type": "markdown",
   "metadata": {},
   "source": [
    "### - Stochastic Gradient Descent\n",
    "\n",
    "#### Creation of the model"
   ]
  },
  {
   "cell_type": "code",
   "execution_count": null,
   "metadata": {},
   "outputs": [],
   "source": [
    "# Using Stochastic Gradient Descent regressor\n",
    "\n",
    "max_iters=100\n",
    "#With gamma = 0.7 loss huuuuge\n",
    "gamma=0.01\n",
    "batch_size=32\n",
    "\n",
    "w_initial=np.array(np.zeros(input_data.shape[1]))\n",
    "\n",
    "#Start\n",
    "SGD_loss,SGD_ws= stochastic_gradient_descent(yb,input_data,w_initial,batch_size,max_iters,gamma)\n",
    "\n",
    "#Print results\n",
    "print(\"Stochastic Gradient Descent final loss =\",  SGD_loss)\n",
    "print(\"Weights =\",SGD_ws)"
   ]
  },
  {
   "cell_type": "markdown",
   "metadata": {},
   "source": [
    "#### Prediction"
   ]
  },
  {
   "cell_type": "code",
   "execution_count": null,
   "metadata": {},
   "outputs": [],
   "source": [
    "# Predicting the labels of test dataset.\n",
    "SGD_labels=predict_labels(SGD_ws,test_data)\n",
    "print(SGD_labels)\n",
    "\n",
    "create_csv_submission(ids_test,SGD_labels,'predictions_SGD_PCA.csv')\n",
    "print('Prediction file created')"
   ]
  },
  {
   "cell_type": "markdown",
   "metadata": {},
   "source": [
    "### - Polynomial least squares\n",
    "\n",
    "#### Creation of the model"
   ]
  },
  {
   "cell_type": "code",
   "execution_count": 5,
   "metadata": {},
   "outputs": [
    {
     "name": "stdout",
     "output_type": "stream",
     "text": [
      "Processing 1th experiment, degree=1, rmse_tr=0.41999782756625104, rmse_vt=0.41918971897694357\n",
      "Processing 2th experiment, degree=2, rmse_tr=0.40898302383463797, rmse_vt=0.4082423424354378\n",
      "Processing 3th experiment, degree=3, rmse_tr=0.40389554533581346, rmse_vt=0.4038737289097868\n",
      "Processing 4th experiment, degree=4, rmse_tr=0.40094698291355324, rmse_vt=0.4024192619983078\n",
      "Processing 5th experiment, degree=5, rmse_tr=0.39895845168591126, rmse_vt=0.39972961046821265\n",
      "Processing 6th experiment, degree=6, rmse_tr=0.39779453723783215, rmse_vt=0.39819742948814574\n",
      "Processing 7th experiment, degree=7, rmse_tr=0.3970862429522391, rmse_vt=0.39800257587389043\n",
      "Processing 8th experiment, degree=8, rmse_tr=0.3950564283903245, rmse_vt=0.4597594482150059\n"
     ]
    },
    {
     "data": {
      "text/plain": [
       "Text(0.5,1,'Variation of the loss on the validation test depending on the degree of features expansion.')"
      ]
     },
     "execution_count": 5,
     "metadata": {},
     "output_type": "execute_result"
    },
    {
     "data": {
      "image/png": "[encoded data removed]",
      "text/plain": [
       "<Figure size 432x288 with 1 Axes>"
      ]
     },
     "metadata": {},
     "output_type": "display_data"
    }
   ],
   "source": [
    "# Using least squares with expanded features\n",
    "\n",
    "# We divide the set in 80% training and 20% test. This is done in order to obtain a loss on a small validation in test \n",
    "# to guess which is the best degree of expansion. \n",
    "# --> A better way to do this is of course Cross Validation (to implement)\n",
    "# --> Note that we did not perform randomization before dividing. Of course it would be better to do so, but our data do not look to be ordered anyway. \n",
    "\n",
    "ratio = 0.8\n",
    "seed = 9\n",
    "input_data_tr,validation_data,yb_tr,yb_vt=split_data(input_data,yb,ratio,seed)\n",
    "\n",
    "degrees = np.array([1,2,3,4,5,6,7,8])\n",
    "losses_vt = []\n",
    "losses_tr = []\n",
    "ws = []\n",
    "\n",
    "for ind, degree in enumerate(degrees):\n",
    "    # form dataset to do polynomial regression.\n",
    "    tx = build_poly(input_data_tr, degree)\n",
    "    #Note that the column of ones is already added by the function build_poly()\n",
    "\n",
    "    # least squares\n",
    "    weights = least_squares(yb_tr, tx)\n",
    "    ws.append(weights)\n",
    "    \n",
    "    # Expanding the validation set\n",
    "    val_data = build_poly(validation_data,degree)\n",
    "    \n",
    "    # compute RMSE on the validation set\n",
    "    rmse_tr = np.sqrt(2 * compute_loss_MSE(yb_tr, tx, weights))\n",
    "    rmse_vt = np.sqrt(2 * compute_loss_MSE(yb_vt, val_data, weights))\n",
    "    losses_tr.append(rmse_tr)\n",
    "    losses_vt.append(rmse_vt)\n",
    "    print(\"Processing {i}th experiment, degree={d}, rmse_tr={loss_tr}, rmse_vt={loss_vt}\".format(\n",
    "          i = ind + 1, d=degree, loss_tr=rmse_tr, loss_vt=rmse_vt))\n",
    "    \n",
    "plt.plot(degrees,losses_tr, marker=\".\", color='r')\n",
    "plt.plot(degrees,losses_vt, marker=\".\", color='b')\n",
    "plt.xlabel(\"degree\")\n",
    "plt.ylabel(\"RMSE\")\n",
    "plt.title(\"Variation of the loss on the validation test depending on the degree of features expansion.\")"
   ]
  },
  {
   "cell_type": "code",
   "execution_count": 6,
   "metadata": {},
   "outputs": [
    {
     "name": "stdout",
     "output_type": "stream",
     "text": [
      "(134,)\n"
     ]
    }
   ],
   "source": [
    "# Thus, it looks like the best model is obtained with degree=4 (with no PCA)\n",
    "\n",
    "# We train again our model using all the data of the train set\n",
    "\n",
    "#CHANGE THE DEGREE WHEN NEEDED.\n",
    "degree=7\n",
    "tx = build_poly(input_data, degree)\n",
    "LS_ws = least_squares(yb, tx)\n",
    "print(LS_ws.shape)"
   ]
  },
  {
   "cell_type": "markdown",
   "metadata": {},
   "source": [
    "#### Prediction"
   ]
  },
  {
   "cell_type": "code",
   "execution_count": 7,
   "metadata": {},
   "outputs": [
    {
     "name": "stdout",
     "output_type": "stream",
     "text": [
      "[1. 1. 1. ... 1. 1. 1.]\n",
      "Prediction file created\n"
     ]
    }
   ],
   "source": [
    "# Predicting the labels of test set.\n",
    "test_data_expanded=build_poly(test_data,degree)\n",
    "LS_labels=predict_labels(LS_ws,test_data_expanded)\n",
    "print(LS_labels)\n",
    "\n",
    "# CHANGE THE NAME OF THE FILE.\n",
    "create_csv_submission(ids_test,LS_labels,'predictions_LS_ColRem_noPCA.csv')\n",
    "print('Prediction file created')"
   ]
  },
  {
   "cell_type": "markdown",
   "metadata": {},
   "source": [
    "### - Ridge Regression\n",
    "\n",
    "#### Creation of the model"
   ]
  },
  {
   "cell_type": "code",
   "execution_count": 8,
   "metadata": {},
   "outputs": [
    {
     "name": "stdout",
     "output_type": "stream",
     "text": [
      "Processing 1th experiment, rmse_tr=0.3970872434519869, rmse_vt=0.3980015627304315\n",
      "Processing 2th experiment, rmse_tr=0.39708748133956456, rmse_vt=0.39800031680998943\n",
      "Processing 3th experiment, rmse_tr=0.3970885106815315, rmse_vt=0.39799798928545227\n",
      "Processing 4th experiment, rmse_tr=0.3970923536293025, rmse_vt=0.3979945465673787\n",
      "Processing 5th experiment, rmse_tr=0.3971044354532632, rmse_vt=0.3979914442601199\n",
      "Processing 6th experiment, rmse_tr=0.3971394115671734, rmse_vt=0.3979965551091056\n",
      "Processing 7th experiment, rmse_tr=0.3972411149496561, rmse_vt=0.39804459485071186\n",
      "Processing 8th experiment, rmse_tr=0.39752024064371094, rmse_vt=0.39824320163431925\n",
      "Processing 9th experiment, rmse_tr=0.3982131717583865, rmse_vt=0.3988501524449136\n",
      "Processing 10th experiment, rmse_tr=0.3997087767388092, rmse_vt=0.400316124582042\n",
      "Processing 11th experiment, rmse_tr=0.40228549296853766, rmse_vt=0.4030009463310095\n",
      "Processing 12th experiment, rmse_tr=0.4059387743357645, rmse_vt=0.4069170138292207\n",
      "Processing 13th experiment, rmse_tr=0.41103752617861883, rmse_vt=0.41230464020887164\n",
      "Processing 14th experiment, rmse_tr=0.4186026385993186, rmse_vt=0.4200529529223289\n",
      "Processing 15th experiment, rmse_tr=0.42964656534655427, rmse_vt=0.43123156946667274\n"
     ]
    },
    {
     "data": {
      "text/plain": [
       "Text(0.5,1,'comparison between the loss on the validation and training sets depending on lambda (regularization parameter).')"
      ]
     },
     "execution_count": 8,
     "metadata": {},
     "output_type": "execute_result"
    },
    {
     "data": {
      "image/png": "[encoded data removed]",
      "text/plain": [
       "<Figure size 432x288 with 1 Axes>"
      ]
     },
     "metadata": {},
     "output_type": "display_data"
    }
   ],
   "source": [
    "# Using Ridge regression with expanded features\n",
    "\n",
    "# We divide the set in 80% training and 20% test. This is done in order to obtain a loss on a small validation in test \n",
    "# to guess which is the best degree of expansion. \n",
    "# --> A better way to do this is of course Cross Validation (to implement)\n",
    "# --> Note that we did not perform randomization before dividing. Of course it would be better to do so, but our data do not look to be ordered anyway. \n",
    "\n",
    "ratio=0.8\n",
    "seed=9\n",
    "input_data_tr,validation_data,yb_tr,yb_vt=split_data(input_data,yb,ratio,seed)\n",
    "# Parameters\n",
    "degrees=np.array([1,2,3,4,5,6,7,8])\n",
    "degree=7\n",
    "lambdas = np.logspace(-5, 0, 15)\n",
    "loss_vt = []\n",
    "loss_tr = []\n",
    "ws = []\n",
    "\n",
    "for ind, lambda_ in enumerate(lambdas):\n",
    "    # form dataset to do polynomial regression.\n",
    "    tx = build_poly(input_data_tr, degree)\n",
    "    #Note that the column of ones is already added by the function build_poly()\n",
    "\n",
    "    # least squares\n",
    "    weights = ridge_regression(yb_tr, tx, lambda_)\n",
    "    ws.append(weights)\n",
    "    \n",
    "    # Expanding the validation set\n",
    "    val_data=build_poly(validation_data,degree)\n",
    "    \n",
    "    # compute RMSE on the train set and the validation set\n",
    "    rmse_tr= np.sqrt(2 * compute_loss_MSE(yb_tr, tx, weights))\n",
    "    rmse_vt= np.sqrt(2 * compute_loss_MSE(yb_vt, val_data, weights))\n",
    "    loss_tr.append(rmse_tr)\n",
    "    loss_vt.append(rmse_vt)\n",
    "    print(\"Processing {i}th experiment, rmse_tr={loss_tr}, rmse_vt={loss_vt}\".format(\n",
    "          i=ind + 1, loss_tr=rmse_tr, loss_vt=rmse_vt))\n",
    "    \n",
    "plt.plot(lambdas,loss_tr,marker=\".\", color='r')\n",
    "plt.plot(lambdas,loss_vt, marker=\".\", color='b')\n",
    "plt.xlabel(\"lambda\")\n",
    "plt.ylabel(\"RMSE\")\n",
    "plt.title(\"comparison between the loss on the validation and training sets depending on lambda (regularization parameter).\")"
   ]
  },
  {
   "cell_type": "code",
   "execution_count": 13,
   "metadata": {},
   "outputs": [
    {
     "name": "stdout",
     "output_type": "stream",
     "text": [
      "2.2758459260747865e-05\n",
      "(134,)\n"
     ]
    }
   ],
   "source": [
    "# Thus, it looks like the best model is obtained with degree=4 (with no PCA)\n",
    "\n",
    "# We train again our model using all the data of the train set\n",
    "#CHANGE THE DEGREE WHEN NEEDED.\n",
    "degree=7\n",
    "print(lambdas[1])\n",
    "lambda_=lambdas[1]\n",
    "tx = build_poly(input_data, degree)\n",
    "RR_ws = ridge_regression(yb, tx, lambda_)\n",
    "print(RR_ws.shape)"
   ]
  },
  {
   "cell_type": "markdown",
   "metadata": {},
   "source": [
    "#### Prediction"
   ]
  },
  {
   "cell_type": "code",
   "execution_count": 14,
   "metadata": {},
   "outputs": [
    {
     "name": "stdout",
     "output_type": "stream",
     "text": [
      "[-1.  1.  1. ...  1.  1.  1.]\n",
      "Prediction file created\n"
     ]
    }
   ],
   "source": [
    "# Predicting the labels of test set.\n",
    "test_data_expanded=build_poly(test_data,degree)\n",
    "RR_labels=predict_labels(RR_ws,test_data_expanded)\n",
    "print(RR_labels)\n",
    "\n",
    "# CHANGE THE NAME OF THE FILE.\n",
    "create_csv_submission(ids_test,RR_labels,'predictions_RR_ColRem_noPCA.csv')\n",
    "print('Prediction file created')"
   ]
  },
  {
   "cell_type": "code",
   "execution_count": null,
   "metadata": {},
   "outputs": [],
   "source": []
  }
 ],
 "metadata": {
  "kernelspec": {
   "display_name": "Python 3",
   "language": "python",
   "name": "python3"
  },
  "language_info": {
   "codemirror_mode": {
    "name": "ipython",
    "version": 3
   },
   "file_extension": ".py",
   "mimetype": "text/x-python",
   "name": "python",
   "nbconvert_exporter": "python",
   "pygments_lexer": "ipython3",
   "version": "3.6.5"
  }
 },
 "nbformat": 4,
 "nbformat_minor": 2
}
